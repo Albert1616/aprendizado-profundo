{
  "cells": [
    {
      "cell_type": "markdown",
      "id": "c33b7875",
      "metadata": {
        "id": "c33b7875"
      },
      "source": [
        "# Redes Neurais\n",
        "\n",
        "Este notebook serve como um guia introdutório ao desenvolvimento de redes neurais utilizando a biblioteca PyTorch. Abordaremos os componentes fundamentais da biblioteca, desde a manipulação de tensores até a construção e o treinamento de um modelo de rede neural para classificação de imagens.\n",
        "\n",
        "## Conteúdos Abordados\n",
        "\n",
        "1.  **Tensores e Grafos Computacionais**: A base do PyTorch.\n",
        "2.  **O Módulo `torch.nn`**: Construindo camadas da rede.\n",
        "3.  **Funções de Ativação**: Introduzindo não linearidade.\n",
        "4.  **Construindo Modelos**: `nn.Sequential` e classes customizadas com `nn.Module`.\n",
        "5.  **Datasets e DataLoaders**: Gerenciando e preparando dados com o `torchvision`.\n",
        "6.  **Funções de Custo (Loss Functions)**: Quantificando o erro do modelo.\n",
        "7.  **Otimizadores**: Atualizando os pesos do modelo.\n",
        "8.  **Treinamento**: O ciclo completo de forward, backward e otimização."
      ]
    },
    {
      "cell_type": "markdown",
      "id": "94f64f89",
      "metadata": {
        "id": "94f64f89"
      },
      "source": [
        "## 1. Tensores e Grafos Computacionais\n",
        "\n",
        "O `Tensor` é a estrutura de dados central do PyTorch. Trata-se de uma matriz multidimensional otimizada para operações em hardware especializado como GPUs. Os tensores são a base para a construção de grafos computacionais dinâmicos, que são essenciais para o cálculo automático de gradientes através do mecanismo de diferenciação automática, conhecido como `autograd`."
      ]
    },
    {
      "cell_type": "code",
      "execution_count": null,
      "id": "8a888fd8",
      "metadata": {
        "colab": {
          "base_uri": "https://localhost:8080/"
        },
        "id": "8a888fd8",
        "outputId": "02c84bdd-5434-4340-beae-ca80fe0b47ae"
      },
      "outputs": [
        {
          "output_type": "stream",
          "name": "stdout",
          "text": [
            "Tensor a partir de lista:\n",
            " tensor([[1., 2.],\n",
            "        [3., 4.]])\n",
            "\n",
            "Tensor de 'uns':\n",
            " tensor([[1., 1.],\n",
            "        [1., 1.]]) \n",
            "\n",
            "Tensor aleatório:\n",
            " tensor([[0.6421, 0.4973],\n",
            "        [0.2279, 0.6826]]) \n",
            "\n"
          ]
        }
      ],
      "source": [
        "import torch\n",
        "\n",
        "# Criando um tensor a partir de uma lista Python\n",
        "data_list = [[1, 2], [3, 4]]\n",
        "x_data = torch.tensor(data_list, dtype=torch.float32)\n",
        "print(f\"Tensor a partir de lista:\\n {x_data}\\n\")\n",
        "\n",
        "# Funções de criação de tensores\n",
        "x_ones = torch.ones_like(x_data) # Cria um tensor de 'uns' com o mesmo formato de x_data\n",
        "print(f\"Tensor de 'uns':\\n {x_ones} \\n\")\n",
        "\n",
        "x_rand = torch.rand_like(x_data, dtype=torch.float) # Cria um tensor com valores aleatórios\n",
        "print(f\"Tensor aleatório:\\n {x_rand} \\n\")"
      ]
    },
    {
      "cell_type": "markdown",
      "id": "8909834a",
      "metadata": {
        "id": "8909834a"
      },
      "source": [
        "### O Grafo Computacional e o `autograd`\n",
        "\n",
        "O coração do PyTorch é o `autograd`, seu mecanismo de diferenciação automática. Para que o `autograd` funcione, ele constrói um **grafo computacional** dinamicamente. Este grafo é uma representação de todas as operações executadas nos tensores.\n",
        "\n",
        "Nesta seção, vamos decompor passo a passo como esse grafo é construído e utilizado para calcular gradientes, usando como exemplo a função:\n",
        "$$\n",
        "L = (ab - c)^2\n",
        "$$"
      ]
    },
    {
      "cell_type": "markdown",
      "id": "1f90b23a",
      "metadata": {
        "id": "1f90b23a"
      },
      "source": [
        "#### Passo 1: Definindo os Tensores Folha com `requires_grad`\n",
        "\n",
        "O processo começa com a definição dos tensores de entrada. Estes são as \"folhas\" do nosso grafo. Para que o PyTorch rastreie as operações e calcule os gradientes em relação a eles, devemos definir seu atributo `requires_grad` como `True`."
      ]
    },
    {
      "cell_type": "code",
      "execution_count": null,
      "id": "2e60d3aa",
      "metadata": {
        "colab": {
          "base_uri": "https://localhost:8080/"
        },
        "id": "2e60d3aa",
        "outputId": "d49d8cad-3255-47fc-db70-388508d30168"
      },
      "outputs": [
        {
          "output_type": "stream",
          "name": "stdout",
          "text": [
            "Tensor 'a': 4.0\n",
            "Tensor 'b': 5.0\n",
            "Tensor 'c': 2.0\n"
          ]
        }
      ],
      "source": [
        "import torch\n",
        "\n",
        "# Definindo os tensores de entrada (folhas do grafo)\n",
        "# Estes são os parâmetros em relação aos quais queremos os gradientes\n",
        "a = torch.tensor(4.0, requires_grad=True)\n",
        "b = torch.tensor(5.0, requires_grad=True)\n",
        "c = torch.tensor(2.0, requires_grad=True)\n",
        "\n",
        "print(f\"Tensor 'a': {a}\")\n",
        "print(f\"Tensor 'b': {b}\")\n",
        "print(f\"Tensor 'c': {c}\")"
      ]
    },
    {
      "cell_type": "markdown",
      "id": "76a5a71c",
      "metadata": {
        "id": "76a5a71c"
      },
      "source": [
        "#### Passo 2: Construindo o Grafo no Forward Pass\n",
        "\n",
        "À medida que executamos as operações (o *forward pass*), o PyTorch constrói o grafo dinamicamente. Cada novo tensor resultante de uma operação armazena uma referência à função que o criou através do atributo `grad_fn`. Isso cria uma \"história\" computacional que permite a retropropagação."
      ]
    },
    {
      "cell_type": "code",
      "execution_count": null,
      "id": "af7ef489",
      "metadata": {
        "colab": {
          "base_uri": "https://localhost:8080/"
        },
        "id": "af7ef489",
        "outputId": "ea13019e-ff39-46b2-c797-a01164422031"
      },
      "outputs": [
        {
          "output_type": "stream",
          "name": "stdout",
          "text": [
            "Resultado intermediário 'z': 18.0\n",
            "  - z.grad_fn: <SubBackward0 object at 0x7b3fd298e530>\n",
            "\n",
            "Resultado final 'L': 324.0\n",
            "  - L.grad_fn: <PowBackward0 object at 0x7b3fd298e530>\n"
          ]
        }
      ],
      "source": [
        "# Executando o forward pass para construir o grafo\n",
        "z = a * b - c\n",
        "L = z**2\n",
        "\n",
        "print(f\"Resultado intermediário 'z': {z}\")\n",
        "print(f\"  - z.grad_fn: {z.grad_fn}\\n\") # z foi criado por uma subtração (SubBackward0)\n",
        "\n",
        "print(f\"Resultado final 'L': {L}\")\n",
        "print(f\"  - L.grad_fn: {L.grad_fn}\") # L foi criado por uma potenciação (PowBackward0)"
      ]
    },
    {
      "cell_type": "markdown",
      "id": "18a9031a",
      "metadata": {
        "id": "18a9031a"
      },
      "source": [
        "#### Passo 3: Calculando os Gradientes com `.backward()`\n",
        "\n",
        "Com o grafo construído, podemos calcular os gradientes usando o método `.backward()` no tensor de saída final (que deve ser um escalar). Esta chamada inicia o processo de retropropagação a partir de `L`, aplicando a regra da cadeia para calcular as derivadas parciais de `L` em relação a cada tensor folha.\n",
        "\n",
        "Para o nosso exemplo, o `autograd` calcula:\n",
        "$$\n",
        "\\frac{\\partial L}{\\partial a} = \\frac{\\partial L}{\\partial z}\\frac{\\partial z}{\\partial a} = 2(ab - c)b\n",
        "$$\n",
        "E de forma análoga para `b` e `c`."
      ]
    },
    {
      "cell_type": "code",
      "execution_count": null,
      "id": "7776a3e3",
      "metadata": {
        "colab": {
          "base_uri": "https://localhost:8080/"
        },
        "id": "7776a3e3",
        "outputId": "b87dc629-356b-4b81-c355-8c4da0c052ae"
      },
      "outputs": [
        {
          "output_type": "stream",
          "name": "stdout",
          "text": [
            "O método L.backward() foi executado.\n"
          ]
        }
      ],
      "source": [
        "# Inicia a retropropagação a partir de L\n",
        "L.backward()\n",
        "print(\"O método L.backward() foi executado.\")"
      ]
    },
    {
      "cell_type": "markdown",
      "id": "75abb038",
      "metadata": {
        "id": "75abb038"
      },
      "source": [
        "#### Passo 4: Acessando os Gradientes Calculados\n",
        "\n",
        "Após a execução de `.backward()`, os gradientes calculados são acumulados no atributo `.grad` dos tensores folha (aqueles que foram inicializados com `requires_grad=True`)."
      ]
    },
    {
      "cell_type": "code",
      "execution_count": null,
      "id": "3080aafb",
      "metadata": {
        "colab": {
          "base_uri": "https://localhost:8080/"
        },
        "id": "3080aafb",
        "outputId": "a72eab7b-f505-46c4-c49c-a796cdc924e1"
      },
      "outputs": [
        {
          "output_type": "stream",
          "name": "stdout",
          "text": [
            "Gradiente dL/da: 180.0\n",
            "  - Cálculo manual: 2 * (4*5 - 2) * 5 = 180.0\n",
            "\n",
            "Gradiente dL/db: 144.0\n",
            "  - Cálculo manual: 2 * (4*5 - 2) * 4 = 144.0\n",
            "\n",
            "Gradiente dL/dc: -36.0\n",
            "  - Cálculo manual: 2 * (4*5 - 2) * (-1) = -36.0\n"
          ]
        }
      ],
      "source": [
        "# Os gradientes agora estão disponíveis no atributo .grad de cada tensor folha\n",
        "print(f\"Gradiente dL/da: {a.grad}\")\n",
        "print(f\"  - Cálculo manual: 2 * (4*5 - 2) * 5 = {2 * (4*5 - 2) * 5.0}\\n\")\n",
        "\n",
        "print(f\"Gradiente dL/db: {b.grad}\")\n",
        "print(f\"  - Cálculo manual: 2 * (4*5 - 2) * 4 = {2 * (4*5 - 2) * 4.0}\\n\")\n",
        "\n",
        "print(f\"Gradiente dL/dc: {c.grad}\")\n",
        "print(f\"  - Cálculo manual: 2 * (4*5 - 2) * (-1) = {2 * (4*5 - 2) * (-1.0)}\")"
      ]
    },
    {
      "cell_type": "markdown",
      "id": "0dc463e3",
      "metadata": {
        "id": "0dc463e3"
      },
      "source": [
        "#### Desligando o Rastreamento com `torch.no_grad()`\n",
        "\n",
        "Para fases de inferência ou avaliação, onde não precisamos de gradientes, é crucial desativar o rastreamento para economizar memória e acelerar a computação. O gerenciador de contexto `with torch.no_grad():` instrui o PyTorch a não construir o grafo computacional para nenhuma operação dentro de seu escopo."
      ]
    },
    {
      "cell_type": "code",
      "execution_count": null,
      "id": "798f133c",
      "metadata": {
        "colab": {
          "base_uri": "https://localhost:8080/"
        },
        "id": "798f133c",
        "outputId": "0c72dcee-b88d-490c-bd4e-8cb72e3dd34a"
      },
      "outputs": [
        {
          "output_type": "stream",
          "name": "stdout",
          "text": [
            "Rastreamento de gradientes está ativado por padrão para 'a': True\n",
            "--- Entrando no bloco no_grad ---\n",
            "Resultado L_no_grad: 324.0\n",
            "L_no_grad.grad_fn: None\n",
            "L_no_grad.requires_grad: False\n",
            "--- Saindo do bloco no_grad ---\n",
            "O rastreamento de gradientes para 'a' continua ativado fora do bloco: True\n"
          ]
        }
      ],
      "source": [
        "print(f\"Rastreamento de gradientes está ativado por padrão para 'a': {a.requires_grad}\")\n",
        "\n",
        "with torch.no_grad():\n",
        "    print(\"--- Entrando no bloco no_grad ---\")\n",
        "\n",
        "    # A mesma operação é executada aqui\n",
        "    L_no_grad = (a * b - c)**2\n",
        "\n",
        "    print(f\"Resultado L_no_grad: {L_no_grad}\")\n",
        "    # O tensor resultante não possui grad_fn, pois a operação não foi rastreada\n",
        "    print(f\"L_no_grad.grad_fn: {L_no_grad.grad_fn}\")\n",
        "    print(f\"L_no_grad.requires_grad: {L_no_grad.requires_grad}\")\n",
        "\n",
        "    print(\"--- Saindo do bloco no_grad ---\")\n",
        "\n",
        "print(f\"O rastreamento de gradientes para 'a' continua ativado fora do bloco: {a.requires_grad}\")"
      ]
    },
    {
      "cell_type": "markdown",
      "id": "e5ec41d9",
      "metadata": {
        "id": "e5ec41d9"
      },
      "source": [
        "## 2. O Módulo `torch.nn`\n",
        "\n",
        "O `torch.nn` é o módulo do PyTorch para a construção de redes neurais. Ele fornece um conjunto de blocos de construção, como camadas (`Layers`), funções de ativação (`Activation Functions`), funções de custo (`Loss Functions`) e contêineres (`Containers`). Uma \"camada\" no `torch.nn` é um objeto que encapsula tanto os pesos (parâmetros) quanto as operações a serem aplicadas nos dados de entrada."
      ]
    },
    {
      "cell_type": "markdown",
      "id": "2222abd9",
      "metadata": {
        "id": "2222abd9"
      },
      "source": [
        "### Camada Linear: `nn.Linear`\n",
        "\n",
        "A camada mais fundamental é a `nn.Linear`, que aplica uma transformação afim aos dados de entrada: $y = xW^T + b$.\n",
        "\n",
        "-   `in_features`: a dimensionalidade do espaço de entrada.\n",
        "-   `out_features`: a dimensionalidade do espaço de saída.\n",
        "\n",
        "Os tensores de peso (`weight`, $W$) e de viés (`bias`, $b$) são encapsulados como `nn.Parameter`, uma subclasse de `torch.Tensor` que os registra automaticamente como parâmetros de um `nn.Module`."
      ]
    },
    {
      "cell_type": "code",
      "execution_count": null,
      "id": "c0ee0e68",
      "metadata": {
        "colab": {
          "base_uri": "https://localhost:8080/"
        },
        "id": "c0ee0e68",
        "outputId": "3b04e42b-9893-4b3d-ef9a-f7311eee1b59"
      },
      "outputs": [
        {
          "output_type": "stream",
          "name": "stdout",
          "text": [
            "Formato do tensor de entrada: torch.Size([3, 10])\n",
            "Formato do tensor de saída: torch.Size([3, 5])\n",
            "\n",
            "Pesos (weights) da camada:\n",
            " torch.Size([5, 10])\n",
            "Viés (bias) da camada:\n",
            " torch.Size([5])\n"
          ]
        }
      ],
      "source": [
        "from torch import nn\n",
        "\n",
        "# Definindo uma camada linear\n",
        "# Entrada: 10 features\n",
        "# Saída: 5 features\n",
        "linear_layer = nn.Linear(in_features=10, out_features=5)\n",
        "\n",
        "# Criando um tensor de entrada de exemplo (um \"batch\" com 3 amostras)\n",
        "# O formato é (batch_size, in_features)\n",
        "input_tensor = torch.randn(3, 10)\n",
        "\n",
        "# Passando os dados pela camada\n",
        "output_tensor = linear_layer(input_tensor)\n",
        "\n",
        "print(f\"Formato do tensor de entrada: {input_tensor.shape}\")\n",
        "print(f\"Formato do tensor de saída: {output_tensor.shape}\")\n",
        "print(f\"\\nPesos (weights) da camada:\\n {linear_layer.weight.shape}\")\n",
        "print(f\"Viés (bias) da camada:\\n {linear_layer.bias.shape}\")"
      ]
    },
    {
      "cell_type": "markdown",
      "id": "0db32237",
      "metadata": {
        "id": "0db32237"
      },
      "source": [
        "## 3. Funções de Ativação\n",
        "\n",
        "Funções de ativação introduzem não linearidade no modelo, capacitando-o a aprender fronteiras de decisão complexas. Elas são aplicadas elemento a elemento na saída de uma camada.\n",
        "\n",
        "### Funções Comuns\n",
        "\n",
        "-   **Sigmoid**: Comprime os valores de entrada no intervalo $(0, 1)$. Utilizada historicamente em camadas ocultas e atualmente em camadas de saída para classificação binária.\n",
        "    $$ \\sigma(x) = \\frac{1}{1 + e^{-x}} $$\n",
        "-   **Tanh (Tangente Hiperbólica)**: Comprime os valores de entrada no intervalo $(-1, 1)$. Geralmente converge mais rápido que a Sigmoid por ser centrada em zero.\n",
        "    $$ \\tanh(x) = \\frac{e^x - e^{-x}}{e^x + e^{-x}} $$\n",
        "-   **ReLU (Rectified Linear Unit)**: A função de ativação mais utilizada em redes profundas. É computacionalmente eficiente e ajuda a mitigar o problema do desaparecimento do gradiente (vanishing gradient).\n",
        "    $$ \\text{ReLU}(x) = \\max(0, x) $$\n",
        "-   **Leaky ReLU**: Uma variação da ReLU que permite a passagem de um pequeno gradiente negativo, prevenindo o problema dos \"neurônios mortos\".\n",
        "    $$ \\text{LeakyReLU}(x) = \\begin{cases} x, & \\text{if } x > 0 \\\\ \\alpha x, & \\text{otherwise} \\end{cases} $$\n",
        "-   **Softmax**: Transforma um vetor de números reais (logits) em uma distribuição de probabilidade sobre múltiplas classes. Utilizada na camada de saída para classificação multiclasse.\n",
        "    $$ \\text{Softmax}(x_i) = \\frac{e^{x_i}}{\\sum_{j} e^{x_j}} $$"
      ]
    },
    {
      "cell_type": "code",
      "execution_count": null,
      "id": "fbab214c",
      "metadata": {
        "colab": {
          "base_uri": "https://localhost:8080/"
        },
        "id": "fbab214c",
        "outputId": "d1d02de2-339b-4b7f-8312-ccc5f3184b16"
      },
      "outputs": [
        {
          "output_type": "stream",
          "name": "stdout",
          "text": [
            "Saída da camada linear:\n",
            " tensor([[ 1.5806, -0.6399, -0.6763, -1.6494,  0.5004],\n",
            "        [-0.8891, -0.1374,  0.2805, -0.4039, -0.1144],\n",
            "        [-0.8004,  0.1275, -0.3737,  0.0726,  0.6832]],\n",
            "       grad_fn=<AddmmBackward0>)\n",
            "\n",
            "Saída após ativação ReLU:\n",
            " tensor([[1.5806, 0.0000, 0.0000, 0.0000, 0.5004],\n",
            "        [0.0000, 0.0000, 0.2805, 0.0000, 0.0000],\n",
            "        [0.0000, 0.1275, 0.0000, 0.0726, 0.6832]], grad_fn=<ReluBackward0>)\n",
            "\n",
            "Saída após ativação Leaky ReLU:\n",
            " tensor([[ 1.5806e+00, -6.3992e-03, -6.7625e-03, -1.6494e-02,  5.0042e-01],\n",
            "        [-8.8911e-03, -1.3735e-03,  2.8054e-01, -4.0386e-03, -1.1438e-03],\n",
            "        [-8.0037e-03,  1.2755e-01, -3.7367e-03,  7.2645e-02,  6.8315e-01]],\n",
            "       grad_fn=<LeakyReluBackward0>)\n"
          ]
        }
      ],
      "source": [
        "# As funções de ativação também estão no módulo nn\n",
        "relu_activation = nn.ReLU()\n",
        "leaky_relu_activation = nn.LeakyReLU()\n",
        "\n",
        "# Aplicando a ativação na saída da camada linear anterior\n",
        "output_with_relu = relu_activation(output_tensor)\n",
        "output_with_leaky_relu = leaky_relu_activation(output_tensor)\n",
        "\n",
        "print(f\"Saída da camada linear:\\n {output_tensor}\\n\")\n",
        "print(f\"Saída após ativação ReLU:\\n {output_with_relu}\\n\")\n",
        "print(f\"Saída após ativação Leaky ReLU:\\n {output_with_leaky_relu}\")"
      ]
    },
    {
      "cell_type": "markdown",
      "id": "c7c7291d",
      "metadata": {
        "id": "c7c7291d"
      },
      "source": [
        "## 4. Construindo Modelos\n",
        "\n",
        "O PyTorch oferece duas maneiras principais de agrupar camadas para formar um modelo completo.\n",
        "\n",
        "### `nn.Sequential`\n",
        "\n",
        "`nn.Sequential` é um contêiner que recebe uma sequência de módulos (camadas, funções de ativação, etc.) e os executa na ordem em que são passados. É uma forma rápida e simples de criar modelos onde os dados fluem sequencialmente através das camadas."
      ]
    },
    {
      "cell_type": "code",
      "execution_count": null,
      "id": "965dde91",
      "metadata": {
        "colab": {
          "base_uri": "https://localhost:8080/"
        },
        "id": "965dde91",
        "outputId": "9bc6fd51-a13c-4171-827d-f907ea60fb0d"
      },
      "outputs": [
        {
          "output_type": "stream",
          "name": "stdout",
          "text": [
            "Formato da saída do modelo: torch.Size([64, 10])\n"
          ]
        }
      ],
      "source": [
        "# Construindo um modelo simples com nn.Sequential\n",
        "model_sequential = nn.Sequential(\n",
        "    nn.Linear(in_features=256, out_features=128),\n",
        "    nn.ReLU(),\n",
        "    nn.Linear(in_features=128, out_features=10)\n",
        ")\n",
        "\n",
        "# Criando um tensor de entrada de exemplo\n",
        "inputs = torch.randn(64, 256)\n",
        "\n",
        "# Forward pass através do modelo sequencial\n",
        "logits = model_sequential(inputs) # 'logits' são as saídas brutas antes da probabilidade\n",
        "\n",
        "print(f\"Formato da saída do modelo: {logits.shape}\")"
      ]
    },
    {
      "cell_type": "markdown",
      "id": "6c230087",
      "metadata": {
        "id": "6c230087"
      },
      "source": [
        "### Classes customizadas com `nn.Module`\n",
        "\n",
        "Para modelos mais complexos, como aqueles com múltiplos caminhos de entrada/saída ou lógicas de *forward pass* não sequenciais (e.g., redes residuais), a abordagem recomendada é criar uma classe que herda de `nn.Module`.\n",
        "\n",
        "Toda classe de modelo customizada deve:\n",
        "1.  Herdar de `torch.nn.Module`.\n",
        "2.  Definir as camadas no construtor `__init__(self)`.\n",
        "3.  Implementar a lógica do *forward pass* no método `forward(self, x)`.\n",
        "\n",
        "O método `backward()` é gerenciado automaticamente pelo `autograd`."
      ]
    },
    {
      "cell_type": "code",
      "execution_count": null,
      "id": "2492bef7",
      "metadata": {
        "id": "2492bef7"
      },
      "outputs": [],
      "source": [
        "# Definindo o mesmo modelo anterior, mas agora como uma classe\n",
        "class NeuralNetwork(nn.Module):\n",
        "    def __init__(self, input_size, hidden_size1, hidden_size2, num_classes):\n",
        "        super(NeuralNetwork, self).__init__()\n",
        "        self.layer1 = nn.Linear(input_size, hidden_size1)\n",
        "        self.relu1 = nn.ReLU()\n",
        "        self.layer2 = nn.Linear(hidden_size1, hidden_size2)\n",
        "        self.relu2 = nn.ReLU()\n",
        "        self.layer3 = nn.Linear(hidden_size2, num_classes)\n",
        "\n",
        "\n",
        "    def forward(self, x):\n",
        "        out = self.layer1(x)\n",
        "        out = self.relu1(out)\n",
        "        out = self.layer2(out)\n",
        "        out = self.relu2(out)\n",
        "        out = self.layer3(out)\n",
        "        return out\n",
        "\n",
        "# Instanciando o modelo\n",
        "# model_class = NeuralNetwork(input_size=256, hidden_size=128, num_classes=10)\n",
        "\n",
        "# O uso é idêntico\n",
        "# logits_class = model_class(inputs)\n",
        "\n",
        "# print(f\"Formato da saída do modelo (classe): {logits_class.shape}\")\n",
        "# print(f\"\\nEstrutura do modelo:\\n{model_class}\")"
      ]
    },
    {
      "cell_type": "markdown",
      "id": "48e0aed0",
      "metadata": {
        "id": "48e0aed0"
      },
      "source": [
        "## 5. Datasets e DataLoaders\n",
        "\n",
        "Para treinar um modelo, precisamos de um pipeline de dados eficiente. O PyTorch oferece duas primitivas de dados fundamentais para isso: `torch.utils.data.Dataset` e `torch.utils.data.DataLoader`.\n",
        "\n",
        "### A Estrutura de um `Dataset` Customizado\n",
        "\n",
        "A classe `Dataset` é uma classe abstrata que representa uma fonte de dados. Para criar seu próprio dataset, você precisa herdar desta classe e sobrescrever três métodos especiais (métodos mágicos):\n",
        "\n",
        "1.  `__init__(self, ...)`: O construtor da classe. É executado uma única vez ao instanciar o dataset. É aqui que você normalmente faria o carregamento inicial dos dados (ex: ler um arquivo CSV, encontrar os caminhos das imagens em um diretório).\n",
        "\n",
        "2.  `__len__(self)`: Este método deve retornar o número total de amostras no seu dataset. O `DataLoader` utiliza essa informação para saber o tamanho do dataset e definir os índices.\n",
        "\n",
        "3.  `__getitem__(self, idx)`: Este método é responsável por carregar e retornar **uma única amostra** do dataset, dado um índice `idx`. É aqui que transformações nos dados (como data augmentation ou normalização) são frequentemente aplicadas."
      ]
    },
    {
      "cell_type": "code",
      "execution_count": null,
      "id": "38dcbac6",
      "metadata": {
        "colab": {
          "base_uri": "https://localhost:8080/"
        },
        "id": "38dcbac6",
        "outputId": "728c6934-77d9-42f1-c085-58590ad6ebf5"
      },
      "outputs": [
        {
          "output_type": "stream",
          "name": "stdout",
          "text": [
            "Tamanho total do dataset: 500\n"
          ]
        }
      ],
      "source": [
        "from torch.utils.data import Dataset\n",
        "\n",
        "# Exemplo prático de um Dataset customizado com tensores\n",
        "class SimpleTensorDataset(Dataset):\n",
        "    def __init__(self, features_tensor, labels_tensor):\n",
        "        self.features = features_tensor\n",
        "        self.labels = labels_tensor\n",
        "\n",
        "    def __len__(self):\n",
        "        # Retorna o número total de amostras\n",
        "        return self.features.size(0)\n",
        "\n",
        "    def __getitem__(self, idx):\n",
        "        # Retorna uma tupla (feature, label) para um dado índice\n",
        "        feature_sample = self.features[idx]\n",
        "        label_sample = self.labels[idx]\n",
        "        return feature_sample, label_sample\n",
        "\n",
        "# Criando dados de exemplo\n",
        "features = torch.randn(500, 64) # 500 amostras, 64 features cada\n",
        "labels = torch.randint(0, 2, (500,)) # 500 rótulos (0 ou 1)\n",
        "\n",
        "# Instanciando o nosso dataset customizado\n",
        "custom_dataset = SimpleTensorDataset(features, labels)\n",
        "\n",
        "# Verificando a implementação dos métodos\n",
        "print(f\"Tamanho total do dataset: {len(custom_dataset)}\")"
      ]
    },
    {
      "cell_type": "code",
      "execution_count": null,
      "id": "f2062638",
      "metadata": {
        "colab": {
          "base_uri": "https://localhost:8080/"
        },
        "id": "f2062638",
        "outputId": "9b03c1b3-a4ee-4ef9-c9f4-6189bc5ef1ce"
      },
      "outputs": [
        {
          "output_type": "stream",
          "name": "stdout",
          "text": [
            "Primeira amostra (features): torch.Size([64])\n",
            "Primeira amostra (label): 0\n"
          ]
        }
      ],
      "source": [
        "# Pegando a primeira amostra (chamando __getitem__ com idx=0)\n",
        "first_sample_features, first_sample_label = custom_dataset[0]\n",
        "print(f\"Primeira amostra (features): {first_sample_features.shape}\")\n",
        "print(f\"Primeira amostra (label): {first_sample_label}\")"
      ]
    },
    {
      "cell_type": "markdown",
      "id": "f8f3e2cc",
      "metadata": {
        "id": "f8f3e2cc"
      },
      "source": [
        "### O Papel do `DataLoader`\n",
        "\n",
        "Uma vez que temos um objeto `Dataset`, que sabe como acessar amostras individuais, precisamos de uma forma eficiente de iterar sobre ele durante o treinamento. É aqui que entra o `DataLoader`.\n",
        "\n",
        "O `DataLoader` é um iterador que envolve um `Dataset` e automatiza o processo de criação de mini-lotes (*mini-batches*). Suas principais funcionalidades são:\n",
        "\n",
        "-   **Agrupamento em Lotes (Batching)**: Agrupa múltiplas amostras retornadas pelo `__getitem__` do `Dataset` para formar um lote (batch) de dados.\n",
        "-   **Embaralhamento (Shuffling)**: Permite embaralhar os dados a cada época (`shuffle=True`) para evitar que o modelo aprenda a ordem dos dados e melhore a generalização.\n",
        "-   **Carregamento Paralelo (Parallel Loading)**: Pode usar múltiplos subprocessos (`num_workers`) para carregar os dados em paralelo, evitando que o carregamento de dados se torne um gargalo."
      ]
    },
    {
      "cell_type": "code",
      "execution_count": null,
      "id": "248ca3d9",
      "metadata": {
        "colab": {
          "base_uri": "https://localhost:8080/"
        },
        "id": "248ca3d9",
        "outputId": "35f51d0a-20e7-4b89-9688-b3b58aa91610"
      },
      "outputs": [
        {
          "output_type": "stream",
          "name": "stdout",
          "text": [
            "Formato do batch de features: torch.Size([10, 64])\n",
            "Formato do batch de rótulos: torch.Size([10])\n"
          ]
        }
      ],
      "source": [
        "from torch.utils.data import DataLoader\n",
        "\n",
        "# Agora, usamos o DataLoader com o 'custom_dataset' que criamos anteriormente\n",
        "data_loader = DataLoader(dataset=custom_dataset, batch_size=10, shuffle=True)\n",
        "\n",
        "# O DataLoader é um iterável. Podemos usá-lo em um laço 'for' ou com 'next(iter())'\n",
        "# para obter o próximo lote de dados.\n",
        "first_batch_features, first_batch_labels = next(iter(data_loader))\n",
        "\n",
        "print(f\"Formato do batch de features: {first_batch_features.shape}\")\n",
        "print(f\"Formato do batch de rótulos: {first_batch_labels.shape}\")"
      ]
    },
    {
      "cell_type": "markdown",
      "id": "c9bb3e8e",
      "metadata": {
        "id": "c9bb3e8e"
      },
      "source": [
        "### Datasets Disponibilizados: `torchvision`\n",
        "\n",
        "Compreendida a estrutura de um `Dataset` e o papel do `DataLoader`, podemos apreciar a conveniência de bibliotecas como a `torchvision`. Ela já fornece implementações prontas da classe `Dataset` para datasets populares como o MNIST, que seguem a mesma estrutura que acabamos de ver."
      ]
    },
    {
      "cell_type": "code",
      "execution_count": null,
      "id": "f40c9ce9",
      "metadata": {
        "colab": {
          "base_uri": "https://localhost:8080/"
        },
        "id": "f40c9ce9",
        "outputId": "9ee18ba7-b7eb-4f3c-f1ee-3b297cbccfdd"
      },
      "outputs": [
        {
          "output_type": "stream",
          "name": "stderr",
          "text": [
            "100%|██████████| 9.91M/9.91M [00:00<00:00, 17.9MB/s]\n",
            "100%|██████████| 28.9k/28.9k [00:00<00:00, 481kB/s]\n",
            "100%|██████████| 1.65M/1.65M [00:00<00:00, 4.45MB/s]\n",
            "100%|██████████| 4.54k/4.54k [00:00<00:00, 9.37MB/s]\n"
          ]
        }
      ],
      "source": [
        "import torchvision\n",
        "import torchvision.transforms as transforms\n",
        "\n",
        "# Definindo transformações para os dados\n",
        "# ToTensor() converte a imagem PIL (H x W x C) no intervalo [0, 255]\n",
        "# para um FloatTensor (C x H x W) no intervalo [0.0, 1.0].\n",
        "transform = transforms.Compose([\n",
        "    transforms.ToTensor(),\n",
        "    transforms.Normalize((0.1307,), (0.3081,)) # Média e desvio padrão do MNIST\n",
        "])\n",
        "\n",
        "# Baixando o dataset de treino\n",
        "train_dataset = torchvision.datasets.MNIST(\n",
        "    root='./data',\n",
        "    train=True,\n",
        "    transform=transform,\n",
        "    download=True\n",
        ")\n",
        "\n",
        "# Baixando o dataset de teste\n",
        "test_dataset = torchvision.datasets.MNIST(\n",
        "    root='./data',\n",
        "    train=False,\n",
        "    transform=transform\n",
        ")"
      ]
    },
    {
      "cell_type": "code",
      "execution_count": null,
      "id": "ad79391c",
      "metadata": {
        "colab": {
          "base_uri": "https://localhost:8080/"
        },
        "id": "ad79391c",
        "outputId": "ecc62888-44bc-4c4b-9a6d-636f94eddb7b"
      },
      "outputs": [
        {
          "output_type": "stream",
          "name": "stdout",
          "text": [
            "Formato do batch de imagens: torch.Size([128, 1, 28, 28])\n",
            "Formato do batch de rótulos: torch.Size([128])\n"
          ]
        }
      ],
      "source": [
        "# Criando os DataLoaders\n",
        "batch_size = 128\n",
        "train_loader = DataLoader(\n",
        "    dataset=train_dataset,\n",
        "    batch_size=batch_size,\n",
        "    shuffle=True\n",
        ")\n",
        "\n",
        "test_loader = DataLoader(\n",
        "    dataset=test_dataset,\n",
        "    batch_size=batch_size,\n",
        "    shuffle=False\n",
        ")\n",
        "\n",
        "# Iterando sobre o DataLoader para ver o formato de um batch\n",
        "images, labels = next(iter(train_loader))\n",
        "print(f\"Formato do batch de imagens: {images.shape}\") # (batch_size, channels, height, width)\n",
        "print(f\"Formato do batch de rótulos: {labels.shape}\")"
      ]
    },
    {
      "cell_type": "code",
      "execution_count": null,
      "id": "a26da9d1",
      "metadata": {
        "colab": {
          "base_uri": "https://localhost:8080/",
          "height": 443
        },
        "id": "a26da9d1",
        "outputId": "49ce694e-93e7-44ab-fa70-5c44720abc62"
      },
      "outputs": [
        {
          "output_type": "display_data",
          "data": {
            "text/plain": [
              "<Figure size 640x480 with 1 Axes>"
            ],
            "image/png": "[encoded data removed]"
          },
          "metadata": {}
        },
        {
          "output_type": "stream",
          "name": "stdout",
          "text": [
            "Rótulos:  0 3 6 7 3 3 6 6 6 8 4 1 3 7 5 1 5 1 6 1 1 1 8 7 7 3 1 0 7 8 8 2 1 8 2 5 1 9 3 4 6 0 5 7 0 8 2 3 5 5 8 7 5 5 3 1 4 1 2 9 0 5 3 7 3 0 7 6 4 0 6 2 9 8 0 6 0 7 0 9 5 3 4 3 0 1 1 7 4 4 3 0 5 2 4 5 7 0 9 3 5 4 1 3 5 6 8 3 3 8 7 0 3 0 1 4 1 4 3 3 2 2 5 4 3 0 3 1\n"
          ]
        }
      ],
      "source": [
        "import matplotlib.pyplot as plt\n",
        "import numpy as np\n",
        "\n",
        "# Função para exibir uma imagem\n",
        "def imshow(img):\n",
        "    # A normalização precisa ser revertida para a visualização correta\n",
        "    # Média = 0.1307, Desvio Padrão = 0.3081\n",
        "    img = img * 0.3081 + 0.1307\n",
        "    npimg = img.numpy()\n",
        "    plt.imshow(np.transpose(npimg, (1, 2, 0)))\n",
        "    plt.axis('off') # Remove os eixos\n",
        "    plt.show()\n",
        "\n",
        "# Pega um lote (batch) de imagens de treino\n",
        "dataiter = iter(train_loader)\n",
        "images, labels = next(dataiter)\n",
        "\n",
        "# Mostra as imagens em uma grade\n",
        "# O make_grid organiza o lote de imagens em uma única imagem-grade\n",
        "imshow(torchvision.utils.make_grid(images))\n",
        "\n",
        "# Imprime os rótulos correspondentes\n",
        "print('Rótulos: ', ' '.join(f'{labels[j].item()}' for j in range(batch_size)))"
      ]
    },
    {
      "cell_type": "markdown",
      "id": "fc9b6e42",
      "metadata": {
        "id": "fc9b6e42"
      },
      "source": [
        "## 6. Funções de Custo (Loss Functions)\n",
        "\n",
        "A função de custo $J(\\theta)$ mede a discrepância entre a saída prevista pelo modelo $\\hat{y}$ e o valor real $y$. O objetivo do treinamento é encontrar os parâmetros $\\theta$ que minimizam $J(\\theta)$.\n",
        "\n",
        "### Funções Comuns\n",
        "\n",
        "-   **Mean Squared Error (MSE)**: Utilizada principalmente para tarefas de regressão. Calcula a média dos erros quadráticos entre a previsão e o valor real.\n",
        "    $$ J_{MSE} = \\frac{1}{N} \\sum_{i=1}^{N} (y_i - \\hat{y}_i)^2 $$\n",
        "-   **Binary Cross-Entropy (BCE)**: Utilizada para classificação binária. Geralmente é combinada com uma camada de saída Sigmoid.\n",
        "    $$ J_{BCE} = -\\frac{1}{N} \\sum_{i=1}^{N} \\left[ y_i \\log(\\hat{y}_i) + (1 - y_i) \\log(1 - \\hat{y}_i) \\right] $$\n",
        "-   **Cross-Entropy Loss**: Utilizada para classificação multiclasse. No PyTorch, `nn.CrossEntropyLoss` combina `nn.LogSoftmax` e `nn.NLLLoss`, sendo numericamente mais estável. Ela espera como entrada os *logits* brutos do modelo e os rótulos de classe como inteiros.\n",
        "    $$ J_{CE} = -\\frac{1}{N} \\sum_{i=1}^{N} \\sum_{c=1}^{C} y_{i,c} \\log(\\hat{p}_{i,c}) $$\n",
        "    Onde $y_{i,c}$ é 1 se a amostra $i$ pertence à classe $c$ (0 caso contrário), e $\\hat{p}_{i,c}$ é a probabilidade prevista pelo modelo para a amostra $i$ pertencer à classe $c$."
      ]
    },
    {
      "cell_type": "code",
      "execution_count": null,
      "id": "6fc54866",
      "metadata": {
        "colab": {
          "base_uri": "https://localhost:8080/"
        },
        "id": "6fc54866",
        "outputId": "02173da5-210c-45f1-ec3d-3484bcde86af"
      },
      "outputs": [
        {
          "output_type": "stream",
          "name": "stdout",
          "text": [
            "Valor da perda (loss): 3.315350294113159\n"
          ]
        }
      ],
      "source": [
        "# Instanciando a função de custo para classificação multiclasse\n",
        "loss_function = nn.CrossEntropyLoss()\n",
        "\n",
        "# Exemplo de uso:\n",
        "# Saída do modelo (logits) para um batch de 3 amostras e 10 classes\n",
        "output_logits = torch.randn(3, 10)\n",
        "# Rótulos verdadeiros\n",
        "target_labels = torch.tensor([1, 4, 9]) # Classe 1, Classe 4, Classe 9\n",
        "\n",
        "# Calculando a perda\n",
        "loss = loss_function(output_logits, target_labels)\n",
        "print(f\"Valor da perda (loss): {loss.item()}\")"
      ]
    },
    {
      "cell_type": "markdown",
      "id": "0a7e0143",
      "metadata": {
        "id": "0a7e0143"
      },
      "source": [
        "## 7. Otimizadores\n",
        "\n",
        "O otimizador implementa o algoritmo de atualização dos parâmetros do modelo, $\\theta$, com base nos gradientes da função de custo, $\\nabla_{\\theta} J(\\theta)$. O objetivo é convergir para um mínimo (local ou global) da função de custo.\n",
        "\n",
        "O algoritmo mais fundamental é o **Stochastic Gradient Descent (SGD)**. A regra de atualização para um parâmetro $\\theta$ no passo de tempo $t$ é definida como:\n",
        "$$\n",
        "\\theta_{t+1} = \\theta_t - \\eta \\nabla_{\\theta} J(\\theta_t)\n",
        "$$\n",
        "onde $\\eta$ é a taxa de aprendizado (*learning rate*), um hiperparâmetro que controla o tamanho do passo na direção do gradiente negativo.\n",
        "\n",
        "Otimizadores mais avançados, como o **Adam (Adaptive Moment Estimation)**, utilizam taxas de aprendizado adaptativas para cada parâmetro, mantendo uma estimativa do primeiro momento (a média) e do segundo momento (a variância não centrada) dos gradientes, o que frequentemente leva a uma convergência mais rápida."
      ]
    },
    {
      "cell_type": "code",
      "execution_count": null,
      "id": "f2b6b718",
      "metadata": {
        "id": "f2b6b718"
      },
      "outputs": [],
      "source": [
        "# Instanciando o modelo\n",
        "learning_rate = 1.0\n",
        "# Corrigindo a chamada da classe NeuralNetwork para usar hidden_size1 e hidden_size2\n",
        "model = NeuralNetwork(input_size=784, hidden_size1=256, hidden_size2=128, num_classes=10)\n",
        "\n",
        "# Instanciando o otimizador\n",
        "# Passamos os parâmetros do modelo que devem ser otimizados (model.parameters())\n",
        "# e a taxa de aprendizado (lr).\n",
        "optimizer = torch.optim.SGD(model.parameters(), lr=learning_rate)\n",
        "\n",
        "# O otimizador possui métodos cruciais:\n",
        "# optimizer.zero_grad(): Zera os gradientes de todos os parâmetros antes de um novo cálculo de backward pass.\n",
        "#   Isto é necessário porque o método .backward() acumula os gradientes por padrão.\n",
        "#\n",
        "# optimizer.step(): Atualiza os parâmetros do modelo usando a lógica do otimizador (e.g., Adam) e os gradientes\n",
        "#   armazenados no atributo .grad de cada parâmetro."
      ]
    },
    {
      "cell_type": "markdown",
      "id": "02499521",
      "metadata": {
        "id": "02499521"
      },
      "source": [
        "## 8. Treinamento: O Ciclo Completo\n",
        "\n",
        "O treinamento de uma rede neural consiste em um loop que itera sobre o dataset por várias \"épocas\" (*epochs*). Uma época é uma passagem completa por todo o dataset de treinamento. Dentro de cada época, iteramos sobre os *batches* de dados.\n",
        "\n",
        "Para cada *batch*, o ciclo de treinamento é:\n",
        "1.  **Zerar os gradientes**: Chamar `optimizer.zero_grad()`.\n",
        "2.  **Forward Pass**: Passar os dados de entrada pelo modelo para obter as previsões (logits).\n",
        "3.  **Calcular a Perda**: Comparar as previsões com os rótulos verdadeiros usando a função de custo.\n",
        "4.  **Backward Pass**: Chamar `loss.backward()` para calcular os gradientes da perda em relação a cada parâmetro do modelo.\n",
        "5.  **Atualizar os Pesos**: Chamar `optimizer.step()` para que o otimizador atualize os pesos com base nos gradientes."
      ]
    },
    {
      "cell_type": "code",
      "execution_count": 41,
      "id": "d21914f1",
      "metadata": {
        "colab": {
          "base_uri": "https://localhost:8080/",
          "height": 480,
          "referenced_widgets": [
            "89f5cfc2fbc34bc09be51d7b597b18ee",
            "c1457102ead94d188f56a7f454b7fdda",
            "cc791a8b7e5c43c5ab6347564843783a",
            "8337b15b011944c09375df80361cf7f8",
            "239d690d9e144bffa0df63b17cfdddc8",
            "1c2015efaec34fadb1c7d2a36cc4c14c",
            "605f4eb8475d4e05b38c07a4085a5d66",
            "73dd2fbce1b04c35b2f1909eab650f13",
            "e0d358015a7a4413bf7c8a91a3bdaa19",
            "d2a6443348894dc393298a95d237ae19",
            "82f12e565cf14287a4e24c8a2399b249",
            "ad582e7d291c483a959a7802c19e5853",
            "84743d84cb274ece8c438d3ca2d64861",
            "24eaa258c91d4e11925c0e4589e5c518",
            "77ec0550c35d455585357745e47bc7b9",
            "c3bbe6cdaa904128a900488694827ae4",
            "aea6bbd4edfc4f85bd117573c331a018",
            "6f3b37d8bacd4507b8c8ae1c89c63096",
            "27fafed3520e46749b3c9f09a7c834fc",
            "3a0c5b06dc654619837cfa8bd6acda40",
            "492307cf21db4b2bb679ccca55f2ff1b",
            "5eb7933460254d4a9eff7e6c9dd6ef67",
            "cb76402c62ae43e78a7cfcc517084326",
            "ad9587e8ce3e4353bbaa984b92c52ff2",
            "1b57e9a6c2d2417dbf3efb24ed4f2073",
            "dd7c7bd7ed0645308e90c45924b7f563",
            "b30763c80e7545008f5e7ecca32f83bd",
            "860d95b1620d43f8acdb0e20564a379a",
            "6f459f37e8cf47d9876ed5b4b054508c",
            "9cef291ea225416b87e913bdbcc39112",
            "3646cb344e8647b9917f4043cd82d053",
            "ec8ce7ccd24440468c991d4630489b89",
            "10dfabb1b73048d0a785b1b1c95c79a8",
            "87532297ac284a289c57f644374f1775",
            "37b4b9e759f445c0b1b03e8803833ace",
            "2a03081f80da43f8932ab41a5a27ee5d",
            "d118ab5d914e4773bb9f60e50b2e9a2d",
            "c9ade61541b4432fa5de6d42cc68126a",
            "a059b72fb56d4724906b58e7668712b3",
            "94018dd3358e46ef8642727350ef9f74",
            "37c6d7d05d9c47b7a7c36e669ac2f932",
            "393afee69c114bd09b27466592c79423",
            "94b6a7e02e5f4f66ba2992a1fab26292",
            "2bd5699c8caf4c5ab09574f2e2f19564",
            "f8ba9d98fe55495ca6e8c9fd463e1748",
            "eb7cb3f661a94d08a52daeb4aa36c8c7",
            "4c839629a467452b870b41e428034343",
            "b43760bf6cd34bf0ac5db2311508a52d",
            "04a6dd942f9d4f5d887835e1f374ccaa",
            "c61dff602a964ac6a854308f1b1999cf",
            "af5ad92919f5488eb25dfe7fc319e922",
            "002e422fc31c4d3dafb5f4f84331e805",
            "acafff9b48c54ef1a18ed000f4468aaf",
            "77e0b86f7dfc43eeabf98356db385500",
            "6a5bc3038ea24fc486a389322b67437e",
            "6ee842c4f53b4d238f0c144bee4705ef",
            "0ab36a9507db44c78c9542d901e128dd",
            "6a90900de9ac4c4b9921140328961eda",
            "b59d0e444a1140deb128f8738068b1a7",
            "dea2917325a34fed91da0fd45a9a4eb5",
            "8c06bb858a5d43458730b3739d65eba3",
            "6829daf8957e4eb1bf0b8802b563de4b",
            "a16940ba3aeb4be98948b6513bd9c163",
            "a20c90dee4d946749811c0bcefa7c498",
            "905fbbcd7ac44986992c76ef563dc81c",
            "1d7d607890b04e07b318a75d57120cfa",
            "40f9855af92e4b6e8be6e86972e07b42",
            "eb3b1e927acb4ca1a3381e665e07f9de",
            "561841590b8840ae857ebebf7a433aa7",
            "ddb58ee607684e4887d265af56776313",
            "221399047802419a87af67ec4a928ef0",
            "f5cd263bdc1542dba2cedbf8ef7a6f80",
            "4648bd27ad8c4263b01e863e44143a47",
            "cbd6521e260f4379804dcc0596b1744a",
            "607bc35f358640d1a71947ef62206f13",
            "13d381f1797c4f458f2eeb83899d3e78",
            "5203248dc5e8410fb8ca0a6333cc66bb",
            "574496446df54000907926e52424707d",
            "be6f048f8304481cbd36af90fef59642",
            "5f6d91feeb4d4797ad939fc5a5c6ce8b",
            "0fb50e96763e45e89699ecf17513f406",
            "c1067f71c82f4390aacc80e6aad33aec",
            "a9bb0ee233924c679b0e8f14d3d2040c",
            "460b5d52d59b460ead2895da39c3c6ee",
            "67af8256ea104b3a8bf62a2e2704d444",
            "1e64937c6fe94ce99c90fdd04992414d",
            "a106b482ebcf434e989cc221b738adb0",
            "884c08ef73014600a90ded0bd5717d91",
            "04692b9cb4244982854131947ec6d8a2",
            "a20f4095f37f46489dd6920332205891",
            "5eb596e8c7d54c7d83355e7e65ec8bb0",
            "63c82c02404041b88bcd881e5161734f",
            "05a35a39b6bf401b98e942c507b8356b",
            "08073f4dc6c34ec3b9d9e9da51d4629d",
            "ec50c3d63df949ac8a9f924409a74e78",
            "1a06baae42114df6a9c7f23ea5b30d7f",
            "cce82f7082d5432d915876e2c4abd13c",
            "e7ffeb736f0645db84c685643937b93d",
            "c8453e46db6f4980b103fafd9cab08f2",
            "f78fc63e74bc4eceaf3e46eb16bec8d2",
            "205e0ea073944c218f41b8e71e65aa66",
            "d2940258f74e472cb1731efe05a3713d",
            "d2f7521bf36b4f1b8b013df90bffd4e1",
            "7928bea27cf54601b7d6dd8d9a7e42c2",
            "0e16ca27a6c1470eb13309aaf05a085d",
            "a686218e15ff43d1b8428fc358e2e365",
            "bac786572b914207bb33f8b01f912a09",
            "2ed43d98b5f4444b99ca1624ac1f2272",
            "7addfeacff544d2587406c7d9f334086",
            "36d4b344a0684e65815b7b59420a330b"
          ]
        },
        "id": "d21914f1",
        "outputId": "b0771fb4-623c-4f16-92e1-1873d6ce83c4"
      },
      "outputs": [
        {
          "output_type": "stream",
          "name": "stdout",
          "text": [
            "Usando o dispositivo: cpu\n"
          ]
        },
        {
          "output_type": "display_data",
          "data": {
            "text/plain": [
              "Época [1/5] Treino (LR=0.0001):   0%|          | 0/469 [00:00<?, ?it/s]"
            ],
            "application/vnd.jupyter.widget-view+json": {
              "version_major": 2,
              "version_minor": 0,
              "model_id": "89f5cfc2fbc34bc09be51d7b597b18ee"
            }
          },
          "metadata": {}
        },
        {
          "output_type": "display_data",
          "data": {
            "text/plain": [
              "Época [1/5] Validação (LR=0.0001):   0%|          | 0/79 [00:00<?, ?it/s]"
            ],
            "application/vnd.jupyter.widget-view+json": {
              "version_major": 2,
              "version_minor": 0,
              "model_id": "ad582e7d291c483a959a7802c19e5853"
            }
          },
          "metadata": {}
        },
        {
          "output_type": "stream",
          "name": "stdout",
          "text": [
            "Fim da Época [1/5] | Perda Treino: 0.6536, Acurácia Treino: 83.61% | Perda Validação: 0.2919, Acurácia Validação: 91.78%\n"
          ]
        },
        {
          "output_type": "display_data",
          "data": {
            "text/plain": [
              "Época [2/5] Treino (LR=0.0001):   0%|          | 0/469 [00:00<?, ?it/s]"
            ],
            "application/vnd.jupyter.widget-view+json": {
              "version_major": 2,
              "version_minor": 0,
              "model_id": "cb76402c62ae43e78a7cfcc517084326"
            }
          },
          "metadata": {}
        },
        {
          "output_type": "display_data",
          "data": {
            "text/plain": [
              "Época [2/5] Validação (LR=0.0001):   0%|          | 0/79 [00:00<?, ?it/s]"
            ],
            "application/vnd.jupyter.widget-view+json": {
              "version_major": 2,
              "version_minor": 0,
              "model_id": "87532297ac284a289c57f644374f1775"
            }
          },
          "metadata": {}
        },
        {
          "output_type": "stream",
          "name": "stdout",
          "text": [
            "Fim da Época [2/5] | Perda Treino: 0.2684, Acurácia Treino: 92.23% | Perda Validação: 0.2266, Acurácia Validação: 93.47%\n"
          ]
        },
        {
          "output_type": "display_data",
          "data": {
            "text/plain": [
              "Época [3/5] Treino (LR=0.0001):   0%|          | 0/469 [00:00<?, ?it/s]"
            ],
            "application/vnd.jupyter.widget-view+json": {
              "version_major": 2,
              "version_minor": 0,
              "model_id": "f8ba9d98fe55495ca6e8c9fd463e1748"
            }
          },
          "metadata": {}
        },
        {
          "output_type": "display_data",
          "data": {
            "text/plain": [
              "Época [3/5] Validação (LR=0.0001):   0%|          | 0/79 [00:00<?, ?it/s]"
            ],
            "application/vnd.jupyter.widget-view+json": {
              "version_major": 2,
              "version_minor": 0,
              "model_id": "6ee842c4f53b4d238f0c144bee4705ef"
            }
          },
          "metadata": {}
        },
        {
          "output_type": "stream",
          "name": "stdout",
          "text": [
            "Fim da Época [3/5] | Perda Treino: 0.2123, Acurácia Treino: 93.86% | Perda Validação: 0.1853, Acurácia Validação: 94.47%\n"
          ]
        },
        {
          "output_type": "display_data",
          "data": {
            "text/plain": [
              "Época [4/5] Treino (LR=0.0001):   0%|          | 0/469 [00:00<?, ?it/s]"
            ],
            "application/vnd.jupyter.widget-view+json": {
              "version_major": 2,
              "version_minor": 0,
              "model_id": "40f9855af92e4b6e8be6e86972e07b42"
            }
          },
          "metadata": {}
        },
        {
          "output_type": "display_data",
          "data": {
            "text/plain": [
              "Época [4/5] Validação (LR=0.0001):   0%|          | 0/79 [00:00<?, ?it/s]"
            ],
            "application/vnd.jupyter.widget-view+json": {
              "version_major": 2,
              "version_minor": 0,
              "model_id": "574496446df54000907926e52424707d"
            }
          },
          "metadata": {}
        },
        {
          "output_type": "stream",
          "name": "stdout",
          "text": [
            "Fim da Época [4/5] | Perda Treino: 0.1756, Acurácia Treino: 94.92% | Perda Validação: 0.1583, Acurácia Validação: 95.33%\n"
          ]
        },
        {
          "output_type": "display_data",
          "data": {
            "text/plain": [
              "Época [5/5] Treino (LR=0.0001):   0%|          | 0/469 [00:00<?, ?it/s]"
            ],
            "application/vnd.jupyter.widget-view+json": {
              "version_major": 2,
              "version_minor": 0,
              "model_id": "04692b9cb4244982854131947ec6d8a2"
            }
          },
          "metadata": {}
        },
        {
          "output_type": "display_data",
          "data": {
            "text/plain": [
              "Época [5/5] Validação (LR=0.0001):   0%|          | 0/79 [00:00<?, ?it/s]"
            ],
            "application/vnd.jupyter.widget-view+json": {
              "version_major": 2,
              "version_minor": 0,
              "model_id": "f78fc63e74bc4eceaf3e46eb16bec8d2"
            }
          },
          "metadata": {}
        },
        {
          "output_type": "stream",
          "name": "stdout",
          "text": [
            "Fim da Época [5/5] | Perda Treino: 0.1499, Acurácia Treino: 95.69% | Perda Validação: 0.1414, Acurácia Validação: 95.88%\n",
            "\n",
            "Treinamento concluído!\n"
          ]
        }
      ],
      "source": [
        "import matplotlib.pyplot as plt\n",
        "from tqdm.notebook import tqdm\n",
        "\n",
        "# Hiperparâmetros\n",
        "num_epochs = 5\n",
        "input_size = 784 # 28x28\n",
        "hidden_size1 = 256 # Nova primeira camada oculta\n",
        "hidden_size2 = 128 # Nova segunda camada oculta\n",
        "num_classes = 10\n",
        "# learning_rate = 0.001 # Taxa de aprendizado original\n",
        "learning_rate = 0.0001\n",
        "\n",
        "\n",
        "# Dispositivo (GPU se disponível, senão CPU)\n",
        "device = torch.device('cuda' if torch.cuda.is_available() else 'cpu')\n",
        "print(f\"Usando o dispositivo: {device}\")\n",
        "\n",
        "# Instanciando o modelo, função de custo e otimizador e movendo o modelo para o dispositivo\n",
        "# Reinicie o modelo para cada novo teste de taxa de aprendizado\n",
        "model = NeuralNetwork(input_size, hidden_size1, hidden_size2, num_classes).to(device)\n",
        "criterion = nn.CrossEntropyLoss()\n",
        "# Mantenha o otimizador Adam ou experimente outros como SGD\n",
        "optimizer = torch.optim.Adam(model.parameters(), lr=learning_rate)\n",
        "\n",
        "\n",
        "# Listas para armazenar as métricas de cada época\n",
        "train_losses = []\n",
        "val_losses = []\n",
        "train_accuracies = []\n",
        "val_accuracies = []\n",
        "\n",
        "# Loop de treinamento\n",
        "for epoch in range(num_epochs):\n",
        "    # --- Treinamento ---\n",
        "    model.train() # Coloca o modelo em modo de treinamento\n",
        "    running_loss = 0.0\n",
        "    correct_train = 0\n",
        "    total_train = 0\n",
        "\n",
        "    progress_bar_train = tqdm(train_loader, desc=f'Época [{epoch+1}/{num_epochs}] Treino (LR={learning_rate})')\n",
        "\n",
        "    for images, labels in progress_bar_train:\n",
        "        images = images.reshape(-1, 28*28).to(device)\n",
        "        labels = labels.to(device)\n",
        "\n",
        "        # Forward pass\n",
        "        outputs = model(images)\n",
        "        loss = criterion(outputs, labels)\n",
        "\n",
        "        # Backward e otimização\n",
        "        optimizer.zero_grad()\n",
        "        loss.backward()\n",
        "        optimizer.step()\n",
        "\n",
        "        running_loss += loss.item()\n",
        "\n",
        "        # Calcula a acurácia de treino\n",
        "        _, predicted = torch.max(outputs.data, 1)\n",
        "        total_train += labels.size(0)\n",
        "        correct_train += (predicted == labels).sum().item()\n",
        "\n",
        "        progress_bar_train.set_postfix({'Perda Treino': f'{loss.item():.4f}'})\n",
        "\n",
        "    epoch_train_loss = running_loss / len(train_loader)\n",
        "    epoch_train_acc = 100 * correct_train / total_train\n",
        "    train_losses.append(epoch_train_loss)\n",
        "    train_accuracies.append(epoch_train_acc)\n",
        "\n",
        "    # --- Validação ---\n",
        "    model.eval() # Coloca o modelo em modo de avaliação\n",
        "    running_val_loss = 0.0\n",
        "    correct_val = 0\n",
        "    total_val = 0\n",
        "\n",
        "    progress_bar_val = tqdm(test_loader, desc=f'Época [{epoch+1}/{num_epochs}] Validação (LR={learning_rate})')\n",
        "\n",
        "    with torch.no_grad(): # Desabilita o cálculo de gradientes\n",
        "        for images, labels in test_loader:\n",
        "            images = images.reshape(-1, 28*28).to(device)\n",
        "            labels = labels.to(device)\n",
        "\n",
        "            outputs = model(images)\n",
        "            loss = criterion(outputs, labels)\n",
        "            running_val_loss += loss.item()\n",
        "\n",
        "            # Calcula a acurácia de validação\n",
        "            _, predicted = torch.max(outputs.data, 1)\n",
        "            total_val += labels.size(0)\n",
        "            correct_val += (predicted == labels).sum().item()\n",
        "\n",
        "            progress_bar_val.set_postfix({'Perda Val': f'{loss.item():.4f}'})\n",
        "\n",
        "\n",
        "    epoch_val_loss = running_val_loss / len(test_loader)\n",
        "    epoch_val_acc = 100 * correct_val / total_val\n",
        "    val_losses.append(epoch_val_loss)\n",
        "    val_accuracies.append(epoch_val_acc)\n",
        "\n",
        "    print(f'Fim da Época [{epoch+1}/{num_epochs}] | '\n",
        "          f'Perda Treino: {epoch_train_loss:.4f}, Acurácia Treino: {epoch_train_acc:.2f}% | '\n",
        "          f'Perda Validação: {epoch_val_loss:.4f}, Acurácia Validação: {epoch_val_acc:.2f}%')\n",
        "\n",
        "print(\"\\nTreinamento concluído!\")"
      ]
    },
    {
      "cell_type": "markdown",
      "id": "a2525033",
      "metadata": {
        "id": "a2525033"
      },
      "source": [
        "### Visualização das Curvas de Aprendizado\n",
        "\n",
        "As curvas de aprendizado plotam as métricas de desempenho (como perda e acurácia) para os conjuntos de treinamento e validação ao longo das épocas. Elas são ferramentas de diagnóstico essenciais:\n",
        "\n",
        "-   **Curva de Perda (Loss Curve)**: Mostra a evolução da função de custo. Idealmente, ambas as perdas (treino e validação) devem diminuir. Se a perda de validação começar a aumentar enquanto a de treino continua caindo, é um sinal claro de *overfitting*.\n",
        "-   **Curva de Acurácia (Accuracy Curve)**: Mostra a evolução da acurácia. Idealmente, ambas devem aumentar e convergir. Uma grande diferença entre a acurácia de treino e a de validação também indica *overfitting*."
      ]
    },
    {
      "cell_type": "code",
      "execution_count": 39,
      "id": "6a99a8cb",
      "metadata": {
        "colab": {
          "base_uri": "https://localhost:8080/",
          "height": 495
        },
        "id": "6a99a8cb",
        "outputId": "4921dc23-cfa1-4192-fc23-e0914700b805"
      },
      "outputs": [
        {
          "output_type": "display_data",
          "data": {
            "text/plain": [
              "<Figure size 1500x500 with 2 Axes>"
            ],
            "image/png": "[encoded data removed]"
          },
          "metadata": {}
        }
      ],
      "source": [
        "# Criando os plots\n",
        "fig, axs = plt.subplots(1, 2, figsize=(15, 5))\n",
        "\n",
        "# Plot da Curva de Perda\n",
        "axs[0].plot(train_losses, label='Perda de Treino')\n",
        "axs[0].plot(val_losses, label='Perda de Validação')\n",
        "axs[0].set_title(\"Curvas de Perda\")\n",
        "axs[0].set_xlabel(\"Época\")\n",
        "axs[0].set_ylabel(\"Perda (Cross-Entropy Loss)\")\n",
        "axs[0].legend()\n",
        "axs[0].grid(True)\n",
        "\n",
        "# Plot da Curva de Acurácia\n",
        "axs[1].plot(train_accuracies, label='Acurácia de Treino')\n",
        "axs[1].plot(val_accuracies, label='Acurácia de Validação')\n",
        "axs[1].set_title(\"Curvas de Acurácia\")\n",
        "axs[1].set_xlabel(\"Época\")\n",
        "axs[1].set_ylabel(\"Acurácia (%)\")\n",
        "axs[1].legend()\n",
        "axs[1].grid(True)\n",
        "\n",
        "plt.tight_layout()\n",
        "plt.show()"
      ]
    },
    {
      "cell_type": "markdown",
      "id": "4d0b83e7",
      "metadata": {
        "id": "4d0b83e7"
      },
      "source": [
        "### Avaliação do Modelo\n",
        "\n",
        "Após o treinamento, é fundamental avaliar a performance do modelo em dados que ele nunca viu, ou seja, o conjunto de teste. Durante a avaliação, não precisamos calcular gradientes, o que economiza memória e computação. Para isso, usamos o contexto `torch.no_grad()`."
      ]
    },
    {
      "cell_type": "code",
      "execution_count": null,
      "id": "47c09725",
      "metadata": {
        "colab": {
          "base_uri": "https://localhost:8080/"
        },
        "id": "47c09725",
        "outputId": "31c2092b-46fb-47f8-9d5e-f2f0b9192097"
      },
      "outputs": [
        {
          "output_type": "stream",
          "name": "stdout",
          "text": [
            "Acurácia do modelo no dataset de teste: 98.15 %\n"
          ]
        }
      ],
      "source": [
        "# Colocando o modelo em modo de avaliação (desativa camadas como Dropout, se houver)\n",
        "model.eval()\n",
        "\n",
        "# O contexto torch.no_grad() desabilita o cálculo de gradientes\n",
        "with torch.no_grad():\n",
        "    correct = 0\n",
        "    total = 0\n",
        "    for images, labels in test_loader:\n",
        "        images = images.reshape(-1, 28*28).to(device)\n",
        "        labels = labels.to(device)\n",
        "\n",
        "        # Forward pass\n",
        "        outputs = model(images)\n",
        "\n",
        "        # A classe com o maior logit é a previsão\n",
        "        _, predicted = torch.max(outputs.data, 1)\n",
        "\n",
        "        total += labels.size(0)\n",
        "        correct += (predicted == labels).sum().item()\n",
        "\n",
        "    print(f'Acurácia do modelo no dataset de teste: {100 * correct / total:.2f} %')"
      ]
    },
    {
      "cell_type": "markdown",
      "id": "b287eaec",
      "metadata": {
        "id": "b287eaec"
      },
      "source": [
        "### Exercícios"
      ]
    },
    {
      "cell_type": "markdown",
      "id": "84bf7fc9",
      "metadata": {
        "id": "84bf7fc9"
      },
      "source": [
        "#### Exercício 1: Praticando com o `autograd`\n",
        "\n",
        "Calcule os gradientes da função $L = 2a^3 + 3b^2$ em relação a `a` e `b`.\n",
        "\n",
        "1.  Defina dois tensores, `a` e `b`, com os valores `a=2.0` e `b=5.0`. Lembre-se de definir `requires_grad=True`.\n",
        "2.  Escreva a operação em PyTorch para calcular `L`.\n",
        "3.  Use `.backward()` para calcular os gradientes.\n",
        "4.  Imprima `a.grad` e `b.grad`.\n",
        "5.  **Verificação:** Calcule as derivadas parciais $\\frac{\\partial L}{\\partial a}$ e $\\frac{\\partial L}{\\partial b}$ manualmente e confirme se os resultados correspondem aos do PyTorch."
      ]
    },
    {
      "cell_type": "markdown",
      "source": [
        "#### Resolução\n"
      ],
      "metadata": {
        "id": "goMzyUUc7SXj"
      },
      "id": "goMzyUUc7SXj"
    },
    {
      "cell_type": "code",
      "metadata": {
        "colab": {
          "base_uri": "https://localhost:8080/"
        },
        "id": "33e01278",
        "outputId": "31812460-de60-44a3-e8f8-b693ee2fb8ec"
      },
      "source": [
        "import torch\n",
        "\n",
        "# 1.\n",
        "a = torch.tensor(2.0, requires_grad=True)\n",
        "b = torch.tensor(5.0, requires_grad=True)\n",
        "\n",
        "print(f\"Tensor 'a': {a}\")\n",
        "print(f\"Tensor 'b': {b}\\n\")\n",
        "\n",
        "# 2.\n",
        "L = 2 * (a**3) + 3 * (b**2)\n",
        "\n",
        "print(f\"Valor de L: {L}\\n\")\n",
        "\n",
        "# 3.\n",
        "L.backward()\n",
        "print(\"O método L.backward() foi executado.\\n\")\n",
        "\n",
        "# 4.\n",
        "print(f\"Gradiente dL/da: {a.grad}\")\n",
        "print(f\"Gradiente dL/db: {b.grad}\\n\")\n",
        "\n",
        "# 5. Verificação manual:\n",
        "# dL/da = d/da (2*a^3 + 3*b^2) = 6*a^2\n",
        "# dL/db = d/db (2*a^3 + 3*b^2) = 6*b\n",
        "\n",
        "manual_grad_a = 6 * (2.0**2)\n",
        "manual_grad_b = 6 * (5.0**2)\n",
        "\n",
        "print(f\"Cálculo manual dL/da: {manual_grad_a}\")\n",
        "print(f\"Cálculo manual dL/db: {manual_grad_b}\")"
      ],
      "id": "33e01278",
      "execution_count": null,
      "outputs": [
        {
          "output_type": "stream",
          "name": "stdout",
          "text": [
            "Tensor 'a': 2.0\n",
            "Tensor 'b': 5.0\n",
            "\n",
            "Valor de L: 91.0\n",
            "\n",
            "O método L.backward() foi executado.\n",
            "\n",
            "Gradiente dL/da: 24.0\n",
            "Gradiente dL/db: 30.0\n",
            "\n",
            "Cálculo manual dL/da: 24.0\n",
            "Cálculo manual dL/db: 150.0\n"
          ]
        }
      ]
    },
    {
      "cell_type": "code",
      "metadata": {
        "id": "51c2a6eb"
      },
      "source": [
        "# 4. Imprima a.grad e b.grad\n",
        "print(f\"Gradiente dL/da: {a.grad}\")\n",
        "print(f\"Gradiente dL/db: {b.grad}\\n\")\n",
        "\n",
        "# 5. Verificação manual:\n",
        "# dL/da = d/da (2*a^3 + 3*b^2) = 6*a^2\n",
        "# dL/db = d/db (2*a^3 + 3*b^2) = 6*b\n",
        "\n",
        "manual_grad_a = 6 * (2.0**2)\n",
        "manual_grad_b = 6 * (5.0**2)\n",
        "\n",
        "print(f\"Cálculo manual dL/da: {manual_grad_a}\")\n",
        "print(f\"Cálculo manual dL/db: {manual_grad_b}\")"
      ],
      "id": "51c2a6eb",
      "execution_count": null,
      "outputs": []
    },
    {
      "cell_type": "markdown",
      "id": "15bf6d98",
      "metadata": {
        "id": "15bf6d98"
      },
      "source": [
        "#### Exercício 2: Aprofundando a Arquitetura da Rede\n",
        "\n",
        "Modifique a classe `NeuralNetwork` para que ela tenha **duas camadas ocultas** em vez de uma. A nova arquitetura deve ser:\n",
        "`Entrada (784) -> Camada Linear (256 neurônios) -> ReLU -> Camada Linear (128 neurônios) -> ReLU -> Saída (10 neurônios)`. Em seguida, treine o novo modelo e compare com as curvas de treinamento do modelo original."
      ]
    },
    {
      "cell_type": "markdown",
      "source": [
        "#### Resolução"
      ],
      "metadata": {
        "id": "4Jr9Xtqz7VX3"
      },
      "id": "4Jr9Xtqz7VX3"
    },
    {
      "cell_type": "code",
      "metadata": {
        "colab": {
          "base_uri": "https://localhost:8080/",
          "height": 495
        },
        "id": "33d45f5c",
        "outputId": "6454b9ff-1c19-4c74-855d-3a1fefdf8da3"
      },
      "source": [
        "# Modelo novo (maior número de camadas)\n",
        "\n",
        "fig, axs = plt.subplots(1, 2, figsize=(15, 5))\n",
        "\n",
        "# Plot da Curva de Perda\n",
        "axs[0].plot(train_losses, label='Perda de Treino (Novo Modelo)')\n",
        "axs[0].plot(val_losses, label='Perda de Validação (Novo Modelo)')\n",
        "axs[0].set_title(\"Curvas de Perda (Novo Modelo)\")\n",
        "axs[0].set_xlabel(\"Época\")\n",
        "axs[0].set_ylabel(\"Perda (Cross-Entropy Loss)\")\n",
        "axs[0].legend()\n",
        "axs[0].grid(True)\n",
        "\n",
        "# Plot da Curva de Acurácia\n",
        "axs[1].plot(train_accuracies, label='Acurácia de Treino (Novo Modelo)')\n",
        "axs[1].plot(val_accuracies, label='Acurácia de Validação (Novo Modelo)')\n",
        "axs[1].set_title(\"Curvas de Acurácia (Novo Modelo)\")\n",
        "axs[1].set_xlabel(\"Época\")\n",
        "axs[1].set_ylabel(\"Acurácia (%)\")\n",
        "axs[1].legend()\n",
        "axs[1].grid(True)\n",
        "\n",
        "plt.tight_layout()\n",
        "plt.show()"
      ],
      "id": "33d45f5c",
      "execution_count": 42,
      "outputs": [
        {
          "output_type": "display_data",
          "data": {
            "text/plain": [
              "<Figure size 1500x500 with 2 Axes>"
            ],
            "image/png": "[encoded data removed]"
          },
          "metadata": {}
        }
      ]
    },
    {
      "cell_type": "markdown",
      "source": [
        "###Conclusão: Conforme o gráfico acima, que demostra a perda e acurácia do novo modelo por época, não houveram diferenças significativas entre o modelo antigo e o novo."
      ],
      "metadata": {
        "id": "EUV1XE1vzIir"
      },
      "id": "EUV1XE1vzIir"
    },
    {
      "cell_type": "markdown",
      "id": "bba96cb0",
      "metadata": {
        "id": "bba96cb0"
      },
      "source": [
        "#### Exercício 3: Otimizadores e Taxa de Aprendizado\n",
        "\n",
        "Altere a taxa de aprendizado no loop de treinamento. Utilize valores maiores (como `lr=1.0`) e menores (como `lr=0.0001`) do que o original. Como as curvas de treinamento se comportaram em cada ocasião?"
      ]
    },
    {
      "cell_type": "markdown",
      "source": [
        "#### Resolução"
      ],
      "metadata": {
        "id": "vKW6opjA7YMu"
      },
      "id": "vKW6opjA7YMu"
    },
    {
      "cell_type": "markdown",
      "source": [
        "Lr = 1 - Gráfico de perda e acurárica por época\n"
      ],
      "metadata": {
        "id": "1ZE_K8HMznPp"
      },
      "id": "1ZE_K8HMznPp"
    },
    {
      "cell_type": "code",
      "source": [
        "# Criando os plots\n",
        "fig, axs = plt.subplots(1, 2, figsize=(15, 5))\n",
        "\n",
        "# Plot da Curva de Perda\n",
        "axs[0].plot(train_losses, label='Perda de Treino')\n",
        "axs[0].plot(val_losses, label='Perda de Validação')\n",
        "axs[0].set_title(\"Curvas de Perda\")\n",
        "axs[0].set_xlabel(\"Época\")\n",
        "axs[0].set_ylabel(\"Perda (Cross-Entropy Loss)\")\n",
        "axs[0].legend()\n",
        "axs[0].grid(True)\n",
        "\n",
        "# Plot da Curva de Acurácia\n",
        "axs[1].plot(train_accuracies, label='Acurácia de Treino')\n",
        "axs[1].plot(val_accuracies, label='Acurácia de Validação')\n",
        "axs[1].set_title(\"Curvas de Acurácia\")\n",
        "axs[1].set_xlabel(\"Época\")\n",
        "axs[1].set_ylabel(\"Acurácia (%)\")\n",
        "axs[1].legend()\n",
        "axs[1].grid(True)\n",
        "\n",
        "plt.tight_layout()\n",
        "plt.show()"
      ],
      "metadata": {
        "colab": {
          "base_uri": "https://localhost:8080/",
          "height": 495
        },
        "id": "CwsZybXg6qX8",
        "outputId": "a9f03ffb-77f7-4b72-8277-a53bb6dfeaa2"
      },
      "id": "CwsZybXg6qX8",
      "execution_count": 40,
      "outputs": [
        {
          "output_type": "display_data",
          "data": {
            "text/plain": [
              "<Figure size 1500x500 with 2 Axes>"
            ],
            "image/png": "[encoded data removed]"
          },
          "metadata": {}
        }
      ]
    },
    {
      "cell_type": "markdown",
      "source": [
        "Com uma taxa de aprendizado muito alta, o otimizador pode dar \"passos\" muito grandes no espaço de parâmetros. Isso pode fazer com que a perda oscile bastante e pode até divergir (aumentar em vez de diminuir). As curvas representam esse comportamento, as curvas de perda e acurácia variam muito durante o treinamento."
      ],
      "metadata": {
        "id": "t96uCLrk77W4"
      },
      "id": "t96uCLrk77W4"
    },
    {
      "cell_type": "markdown",
      "source": [
        "### Lr = 0.0001"
      ],
      "metadata": {
        "id": "hJIN_9Pz7fHB"
      },
      "id": "hJIN_9Pz7fHB"
    },
    {
      "cell_type": "code",
      "source": [
        "# Criando os plots\n",
        "fig, axs = plt.subplots(1, 2, figsize=(15, 5))\n",
        "\n",
        "# Plot da Curva de Perda\n",
        "axs[0].plot(train_losses, label='Perda de Treino')\n",
        "axs[0].plot(val_losses, label='Perda de Validação')\n",
        "axs[0].set_title(\"Curvas de Perda\")\n",
        "axs[0].set_xlabel(\"Época\")\n",
        "axs[0].set_ylabel(\"Perda (Cross-Entropy Loss)\")\n",
        "axs[0].legend()\n",
        "axs[0].grid(True)\n",
        "\n",
        "# Plot da Curva de Acurácia\n",
        "axs[1].plot(train_accuracies, label='Acurácia de Treino')\n",
        "axs[1].plot(val_accuracies, label='Acurácia de Validação')\n",
        "axs[1].set_title(\"Curvas de Acurácia\")\n",
        "axs[1].set_xlabel(\"Época\")\n",
        "axs[1].set_ylabel(\"Acurácia (%)\")\n",
        "axs[1].legend()\n",
        "axs[1].grid(True)\n",
        "\n",
        "plt.tight_layout()\n",
        "plt.show()"
      ],
      "metadata": {
        "colab": {
          "base_uri": "https://localhost:8080/",
          "height": 495
        },
        "id": "kmeHLDih7iqi",
        "outputId": "be8b039e-3dac-48c5-c9e8-323f598e88d5"
      },
      "id": "kmeHLDih7iqi",
      "execution_count": 43,
      "outputs": [
        {
          "output_type": "display_data",
          "data": {
            "text/plain": [
              "<Figure size 1500x500 with 2 Axes>"
            ],
            "image/png": "[encoded data removed]"
          },
          "metadata": {}
        }
      ]
    },
    {
      "cell_type": "markdown",
      "source": [
        "Com uma taxa de aprendizado muito baixa, o otimizador dá \"passos\" muito pequenos. O treinamento tende a ser mais estável, mas a convergência pode ser muito lenta. Pode levar muito mais épocas para atingir uma boa performance, e o modelo pode ficar preso em mínimos locais. As curvas possuem valores mais estáveis durante o treinamento."
      ],
      "metadata": {
        "id": "k-PRcNQX8M2f"
      },
      "id": "k-PRcNQX8M2f"
    },
    {
      "cell_type": "markdown",
      "id": "d87afae1",
      "metadata": {
        "id": "d87afae1"
      },
      "source": [
        "#### Exercício 4: Criando um Dataset para Regressão\n",
        "\n",
        "Crie uma classe de `Dataset` customizada para um problema de regressão simples. O dataset deve gerar dados sintéticos onde `y` é uma função linear de `x` com um pouco de ruído.\n",
        "\n",
        "Crie uma classe `RegressionDataset` que herde de `torch.utils.data.Dataset`. No `__init__`, crie um tensor `X` com 1000 pontos aleatórios entre -10 e 10 e crie um tensor `y` correspondente usando a fórmula $y = 5x - 3 + \\text{ruído}$ (use `torch.randn` para o ruído). Implemente os métodos `__len__` e `__getitem__` e use um `DataLoader` para extrair o primeiro lote (batch). Imprima o formato dos tensores de features e labels do lote para confirmar que seu pipeline de dados está funcionando corretamente."
      ]
    },
    {
      "cell_type": "code",
      "metadata": {
        "colab": {
          "base_uri": "https://localhost:8080/"
        },
        "id": "4e2871e0",
        "outputId": "7594a0fd-e2df-429e-cad8-2d71d1e73a1f"
      },
      "source": [
        "#4.\n",
        "\n",
        "from torch.utils.data import Dataset, DataLoader\n",
        "import torch\n",
        "\n",
        "class RegressionDataset(Dataset):\n",
        "    def __init__(self, num_samples=1000):\n",
        "        self.X = 20 * torch.rand(num_samples, 1) - 10\n",
        "        noise = torch.randn(num_samples, 1)\n",
        "        self.y = 5 * self.X - 3 + noise\n",
        "\n",
        "    def __len__(self):\n",
        "        return len(self.X)\n",
        "\n",
        "    def __getitem__(self, idx):\n",
        "        return self.X[idx], self.y[idx]\n",
        "\n",
        "regression_dataset = RegressionDataset()\n",
        "\n",
        "batch_size = 32\n",
        "regression_dataloader = DataLoader(dataset=regression_dataset, batch_size=batch_size, shuffle=True)\n",
        "\n",
        "first_batch_X, first_batch_y = next(iter(regression_dataloader))\n",
        "\n",
        "print(f\"Formato do batch de features (X): {first_batch_X.shape}\")\n",
        "print(f\"Formato do batch de labels (y): {first_batch_y.shape}\")"
      ],
      "id": "4e2871e0",
      "execution_count": 44,
      "outputs": [
        {
          "output_type": "stream",
          "name": "stdout",
          "text": [
            "Formato do batch de features (X): torch.Size([32, 1])\n",
            "Formato do batch de labels (y): torch.Size([32, 1])\n"
          ]
        }
      ]
    }
  ],
  "metadata": {
    "kernelspec": {
      "display_name": "Python 3",
      "name": "python3"
    },
    "language_info": {
      "codemirror_mode": {
        "name": "ipython",
        "version": 3
      },
      "file_extension": ".py",
      "mimetype": "text/x-python",
      "name": "python",
      "nbconvert_exporter": "python",
      "pygments_lexer": "ipython3",
      "version": "3.10.9"
    },
    "colab": {
      "provenance": [],
      "gpuType": "T4"
    },
    "widgets": {
      "application/vnd.jupyter.widget-state+json": {
        "89f5cfc2fbc34bc09be51d7b597b18ee": {
          "model_module": "@jupyter-widgets/controls",
          "model_name": "HBoxModel",
          "model_module_version": "1.5.0",
          "state": {
            "_dom_classes": [],
            "_model_module": "@jupyter-widgets/controls",
            "_model_module_version": "1.5.0",
            "_model_name": "HBoxModel",
            "_view_count": null,
            "_view_module": "@jupyter-widgets/controls",
            "_view_module_version": "1.5.0",
            "_view_name": "HBoxView",
            "box_style": "",
            "children": [
              "IPY_MODEL_c1457102ead94d188f56a7f454b7fdda",
              "IPY_MODEL_cc791a8b7e5c43c5ab6347564843783a",
              "IPY_MODEL_8337b15b011944c09375df80361cf7f8"
            ],
            "layout": "IPY_MODEL_239d690d9e144bffa0df63b17cfdddc8"
          }
        },
        "c1457102ead94d188f56a7f454b7fdda": {
          "model_module": "@jupyter-widgets/controls",
          "model_name": "HTMLModel",
          "model_module_version": "1.5.0",
          "state": {
            "_dom_classes": [],
            "_model_module": "@jupyter-widgets/controls",
            "_model_module_version": "1.5.0",
            "_model_name": "HTMLModel",
            "_view_count": null,
            "_view_module": "@jupyter-widgets/controls",
            "_view_module_version": "1.5.0",
            "_view_name": "HTMLView",
            "description": "",
            "description_tooltip": null,
            "layout": "IPY_MODEL_1c2015efaec34fadb1c7d2a36cc4c14c",
            "placeholder": "​",
            "style": "IPY_MODEL_605f4eb8475d4e05b38c07a4085a5d66",
            "value": "Época [1/5] Treino (LR=0.0001): 100%"
          }
        },
        "cc791a8b7e5c43c5ab6347564843783a": {
          "model_module": "@jupyter-widgets/controls",
          "model_name": "FloatProgressModel",
          "model_module_version": "1.5.0",
          "state": {
            "_dom_classes": [],
            "_model_module": "@jupyter-widgets/controls",
            "_model_module_version": "1.5.0",
            "_model_name": "FloatProgressModel",
            "_view_count": null,
            "_view_module": "@jupyter-widgets/controls",
            "_view_module_version": "1.5.0",
            "_view_name": "ProgressView",
            "bar_style": "success",
            "description": "",
            "description_tooltip": null,
            "layout": "IPY_MODEL_73dd2fbce1b04c35b2f1909eab650f13",
            "max": 469,
            "min": 0,
            "orientation": "horizontal",
            "style": "IPY_MODEL_e0d358015a7a4413bf7c8a91a3bdaa19",
            "value": 469
          }
        },
        "8337b15b011944c09375df80361cf7f8": {
          "model_module": "@jupyter-widgets/controls",
          "model_name": "HTMLModel",
          "model_module_version": "1.5.0",
          "state": {
            "_dom_classes": [],
            "_model_module": "@jupyter-widgets/controls",
            "_model_module_version": "1.5.0",
            "_model_name": "HTMLModel",
            "_view_count": null,
            "_view_module": "@jupyter-widgets/controls",
            "_view_module_version": "1.5.0",
            "_view_name": "HTMLView",
            "description": "",
            "description_tooltip": null,
            "layout": "IPY_MODEL_d2a6443348894dc393298a95d237ae19",
            "placeholder": "​",
            "style": "IPY_MODEL_82f12e565cf14287a4e24c8a2399b249",
            "value": " 469/469 [00:22&lt;00:00, 24.14it/s, Perda Treino=0.3254]"
          }
        },
        "239d690d9e144bffa0df63b17cfdddc8": {
          "model_module": "@jupyter-widgets/base",
          "model_name": "LayoutModel",
          "model_module_version": "1.2.0",
          "state": {
            "_model_module": "@jupyter-widgets/base",
            "_model_module_version": "1.2.0",
            "_model_name": "LayoutModel",
            "_view_count": null,
            "_view_module": "@jupyter-widgets/base",
            "_view_module_version": "1.2.0",
            "_view_name": "LayoutView",
            "align_content": null,
            "align_items": null,
            "align_self": null,
            "border": null,
            "bottom": null,
            "display": null,
            "flex": null,
            "flex_flow": null,
            "grid_area": null,
            "grid_auto_columns": null,
            "grid_auto_flow": null,
            "grid_auto_rows": null,
            "grid_column": null,
            "grid_gap": null,
            "grid_row": null,
            "grid_template_areas": null,
            "grid_template_columns": null,
            "grid_template_rows": null,
            "height": null,
            "justify_content": null,
            "justify_items": null,
            "left": null,
            "margin": null,
            "max_height": null,
            "max_width": null,
            "min_height": null,
            "min_width": null,
            "object_fit": null,
            "object_position": null,
            "order": null,
            "overflow": null,
            "overflow_x": null,
            "overflow_y": null,
            "padding": null,
            "right": null,
            "top": null,
            "visibility": null,
            "width": null
          }
        },
        "1c2015efaec34fadb1c7d2a36cc4c14c": {
          "model_module": "@jupyter-widgets/base",
          "model_name": "LayoutModel",
          "model_module_version": "1.2.0",
          "state": {
            "_model_module": "@jupyter-widgets/base",
            "_model_module_version": "1.2.0",
            "_model_name": "LayoutModel",
            "_view_count": null,
            "_view_module": "@jupyter-widgets/base",
            "_view_module_version": "1.2.0",
            "_view_name": "LayoutView",
            "align_content": null,
            "align_items": null,
            "align_self": null,
            "border": null,
            "bottom": null,
            "display": null,
            "flex": null,
            "flex_flow": null,
            "grid_area": null,
            "grid_auto_columns": null,
            "grid_auto_flow": null,
            "grid_auto_rows": null,
            "grid_column": null,
            "grid_gap": null,
            "grid_row": null,
            "grid_template_areas": null,
            "grid_template_columns": null,
            "grid_template_rows": null,
            "height": null,
            "justify_content": null,
            "justify_items": null,
            "left": null,
            "margin": null,
            "max_height": null,
            "max_width": null,
            "min_height": null,
            "min_width": null,
            "object_fit": null,
            "object_position": null,
            "order": null,
            "overflow": null,
            "overflow_x": null,
            "overflow_y": null,
            "padding": null,
            "right": null,
            "top": null,
            "visibility": null,
            "width": null
          }
        },
        "605f4eb8475d4e05b38c07a4085a5d66": {
          "model_module": "@jupyter-widgets/controls",
          "model_name": "DescriptionStyleModel",
          "model_module_version": "1.5.0",
          "state": {
            "_model_module": "@jupyter-widgets/controls",
            "_model_module_version": "1.5.0",
            "_model_name": "DescriptionStyleModel",
            "_view_count": null,
            "_view_module": "@jupyter-widgets/base",
            "_view_module_version": "1.2.0",
            "_view_name": "StyleView",
            "description_width": ""
          }
        },
        "73dd2fbce1b04c35b2f1909eab650f13": {
          "model_module": "@jupyter-widgets/base",
          "model_name": "LayoutModel",
          "model_module_version": "1.2.0",
          "state": {
            "_model_module": "@jupyter-widgets/base",
            "_model_module_version": "1.2.0",
            "_model_name": "LayoutModel",
            "_view_count": null,
            "_view_module": "@jupyter-widgets/base",
            "_view_module_version": "1.2.0",
            "_view_name": "LayoutView",
            "align_content": null,
            "align_items": null,
            "align_self": null,
            "border": null,
            "bottom": null,
            "display": null,
            "flex": null,
            "flex_flow": null,
            "grid_area": null,
            "grid_auto_columns": null,
            "grid_auto_flow": null,
            "grid_auto_rows": null,
            "grid_column": null,
            "grid_gap": null,
            "grid_row": null,
            "grid_template_areas": null,
            "grid_template_columns": null,
            "grid_template_rows": null,
            "height": null,
            "justify_content": null,
            "justify_items": null,
            "left": null,
            "margin": null,
            "max_height": null,
            "max_width": null,
            "min_height": null,
            "min_width": null,
            "object_fit": null,
            "object_position": null,
            "order": null,
            "overflow": null,
            "overflow_x": null,
            "overflow_y": null,
            "padding": null,
            "right": null,
            "top": null,
            "visibility": null,
            "width": null
          }
        },
        "e0d358015a7a4413bf7c8a91a3bdaa19": {
          "model_module": "@jupyter-widgets/controls",
          "model_name": "ProgressStyleModel",
          "model_module_version": "1.5.0",
          "state": {
            "_model_module": "@jupyter-widgets/controls",
            "_model_module_version": "1.5.0",
            "_model_name": "ProgressStyleModel",
            "_view_count": null,
            "_view_module": "@jupyter-widgets/base",
            "_view_module_version": "1.2.0",
            "_view_name": "StyleView",
            "bar_color": null,
            "description_width": ""
          }
        },
        "d2a6443348894dc393298a95d237ae19": {
          "model_module": "@jupyter-widgets/base",
          "model_name": "LayoutModel",
          "model_module_version": "1.2.0",
          "state": {
            "_model_module": "@jupyter-widgets/base",
            "_model_module_version": "1.2.0",
            "_model_name": "LayoutModel",
            "_view_count": null,
            "_view_module": "@jupyter-widgets/base",
            "_view_module_version": "1.2.0",
            "_view_name": "LayoutView",
            "align_content": null,
            "align_items": null,
            "align_self": null,
            "border": null,
            "bottom": null,
            "display": null,
            "flex": null,
            "flex_flow": null,
            "grid_area": null,
            "grid_auto_columns": null,
            "grid_auto_flow": null,
            "grid_auto_rows": null,
            "grid_column": null,
            "grid_gap": null,
            "grid_row": null,
            "grid_template_areas": null,
            "grid_template_columns": null,
            "grid_template_rows": null,
            "height": null,
            "justify_content": null,
            "justify_items": null,
            "left": null,
            "margin": null,
            "max_height": null,
            "max_width": null,
            "min_height": null,
            "min_width": null,
            "object_fit": null,
            "object_position": null,
            "order": null,
            "overflow": null,
            "overflow_x": null,
            "overflow_y": null,
            "padding": null,
            "right": null,
            "top": null,
            "visibility": null,
            "width": null
          }
        },
        "82f12e565cf14287a4e24c8a2399b249": {
          "model_module": "@jupyter-widgets/controls",
          "model_name": "DescriptionStyleModel",
          "model_module_version": "1.5.0",
          "state": {
            "_model_module": "@jupyter-widgets/controls",
            "_model_module_version": "1.5.0",
            "_model_name": "DescriptionStyleModel",
            "_view_count": null,
            "_view_module": "@jupyter-widgets/base",
            "_view_module_version": "1.2.0",
            "_view_name": "StyleView",
            "description_width": ""
          }
        },
        "ad582e7d291c483a959a7802c19e5853": {
          "model_module": "@jupyter-widgets/controls",
          "model_name": "HBoxModel",
          "model_module_version": "1.5.0",
          "state": {
            "_dom_classes": [],
            "_model_module": "@jupyter-widgets/controls",
            "_model_module_version": "1.5.0",
            "_model_name": "HBoxModel",
            "_view_count": null,
            "_view_module": "@jupyter-widgets/controls",
            "_view_module_version": "1.5.0",
            "_view_name": "HBoxView",
            "box_style": "",
            "children": [
              "IPY_MODEL_84743d84cb274ece8c438d3ca2d64861",
              "IPY_MODEL_24eaa258c91d4e11925c0e4589e5c518",
              "IPY_MODEL_77ec0550c35d455585357745e47bc7b9"
            ],
            "layout": "IPY_MODEL_c3bbe6cdaa904128a900488694827ae4"
          }
        },
        "84743d84cb274ece8c438d3ca2d64861": {
          "model_module": "@jupyter-widgets/controls",
          "model_name": "HTMLModel",
          "model_module_version": "1.5.0",
          "state": {
            "_dom_classes": [],
            "_model_module": "@jupyter-widgets/controls",
            "_model_module_version": "1.5.0",
            "_model_name": "HTMLModel",
            "_view_count": null,
            "_view_module": "@jupyter-widgets/controls",
            "_view_module_version": "1.5.0",
            "_view_name": "HTMLView",
            "description": "",
            "description_tooltip": null,
            "layout": "IPY_MODEL_aea6bbd4edfc4f85bd117573c331a018",
            "placeholder": "​",
            "style": "IPY_MODEL_6f3b37d8bacd4507b8c8ae1c89c63096",
            "value": "Época [1/5] Validação (LR=0.0001):   0%"
          }
        },
        "24eaa258c91d4e11925c0e4589e5c518": {
          "model_module": "@jupyter-widgets/controls",
          "model_name": "FloatProgressModel",
          "model_module_version": "1.5.0",
          "state": {
            "_dom_classes": [],
            "_model_module": "@jupyter-widgets/controls",
            "_model_module_version": "1.5.0",
            "_model_name": "FloatProgressModel",
            "_view_count": null,
            "_view_module": "@jupyter-widgets/controls",
            "_view_module_version": "1.5.0",
            "_view_name": "ProgressView",
            "bar_style": "danger",
            "description": "",
            "description_tooltip": null,
            "layout": "IPY_MODEL_27fafed3520e46749b3c9f09a7c834fc",
            "max": 79,
            "min": 0,
            "orientation": "horizontal",
            "style": "IPY_MODEL_3a0c5b06dc654619837cfa8bd6acda40",
            "value": 0
          }
        },
        "77ec0550c35d455585357745e47bc7b9": {
          "model_module": "@jupyter-widgets/controls",
          "model_name": "HTMLModel",
          "model_module_version": "1.5.0",
          "state": {
            "_dom_classes": [],
            "_model_module": "@jupyter-widgets/controls",
            "_model_module_version": "1.5.0",
            "_model_name": "HTMLModel",
            "_view_count": null,
            "_view_module": "@jupyter-widgets/controls",
            "_view_module_version": "1.5.0",
            "_view_name": "HTMLView",
            "description": "",
            "description_tooltip": null,
            "layout": "IPY_MODEL_492307cf21db4b2bb679ccca55f2ff1b",
            "placeholder": "​",
            "style": "IPY_MODEL_5eb7933460254d4a9eff7e6c9dd6ef67",
            "value": " 0/79 [00:59&lt;?, ?it/s, Perda Val=0.1613]"
          }
        },
        "c3bbe6cdaa904128a900488694827ae4": {
          "model_module": "@jupyter-widgets/base",
          "model_name": "LayoutModel",
          "model_module_version": "1.2.0",
          "state": {
            "_model_module": "@jupyter-widgets/base",
            "_model_module_version": "1.2.0",
            "_model_name": "LayoutModel",
            "_view_count": null,
            "_view_module": "@jupyter-widgets/base",
            "_view_module_version": "1.2.0",
            "_view_name": "LayoutView",
            "align_content": null,
            "align_items": null,
            "align_self": null,
            "border": null,
            "bottom": null,
            "display": null,
            "flex": null,
            "flex_flow": null,
            "grid_area": null,
            "grid_auto_columns": null,
            "grid_auto_flow": null,
            "grid_auto_rows": null,
            "grid_column": null,
            "grid_gap": null,
            "grid_row": null,
            "grid_template_areas": null,
            "grid_template_columns": null,
            "grid_template_rows": null,
            "height": null,
            "justify_content": null,
            "justify_items": null,
            "left": null,
            "margin": null,
            "max_height": null,
            "max_width": null,
            "min_height": null,
            "min_width": null,
            "object_fit": null,
            "object_position": null,
            "order": null,
            "overflow": null,
            "overflow_x": null,
            "overflow_y": null,
            "padding": null,
            "right": null,
            "top": null,
            "visibility": null,
            "width": null
          }
        },
        "aea6bbd4edfc4f85bd117573c331a018": {
          "model_module": "@jupyter-widgets/base",
          "model_name": "LayoutModel",
          "model_module_version": "1.2.0",
          "state": {
            "_model_module": "@jupyter-widgets/base",
            "_model_module_version": "1.2.0",
            "_model_name": "LayoutModel",
            "_view_count": null,
            "_view_module": "@jupyter-widgets/base",
            "_view_module_version": "1.2.0",
            "_view_name": "LayoutView",
            "align_content": null,
            "align_items": null,
            "align_self": null,
            "border": null,
            "bottom": null,
            "display": null,
            "flex": null,
            "flex_flow": null,
            "grid_area": null,
            "grid_auto_columns": null,
            "grid_auto_flow": null,
            "grid_auto_rows": null,
            "grid_column": null,
            "grid_gap": null,
            "grid_row": null,
            "grid_template_areas": null,
            "grid_template_columns": null,
            "grid_template_rows": null,
            "height": null,
            "justify_content": null,
            "justify_items": null,
            "left": null,
            "margin": null,
            "max_height": null,
            "max_width": null,
            "min_height": null,
            "min_width": null,
            "object_fit": null,
            "object_position": null,
            "order": null,
            "overflow": null,
            "overflow_x": null,
            "overflow_y": null,
            "padding": null,
            "right": null,
            "top": null,
            "visibility": null,
            "width": null
          }
        },
        "6f3b37d8bacd4507b8c8ae1c89c63096": {
          "model_module": "@jupyter-widgets/controls",
          "model_name": "DescriptionStyleModel",
          "model_module_version": "1.5.0",
          "state": {
            "_model_module": "@jupyter-widgets/controls",
            "_model_module_version": "1.5.0",
            "_model_name": "DescriptionStyleModel",
            "_view_count": null,
            "_view_module": "@jupyter-widgets/base",
            "_view_module_version": "1.2.0",
            "_view_name": "StyleView",
            "description_width": ""
          }
        },
        "27fafed3520e46749b3c9f09a7c834fc": {
          "model_module": "@jupyter-widgets/base",
          "model_name": "LayoutModel",
          "model_module_version": "1.2.0",
          "state": {
            "_model_module": "@jupyter-widgets/base",
            "_model_module_version": "1.2.0",
            "_model_name": "LayoutModel",
            "_view_count": null,
            "_view_module": "@jupyter-widgets/base",
            "_view_module_version": "1.2.0",
            "_view_name": "LayoutView",
            "align_content": null,
            "align_items": null,
            "align_self": null,
            "border": null,
            "bottom": null,
            "display": null,
            "flex": null,
            "flex_flow": null,
            "grid_area": null,
            "grid_auto_columns": null,
            "grid_auto_flow": null,
            "grid_auto_rows": null,
            "grid_column": null,
            "grid_gap": null,
            "grid_row": null,
            "grid_template_areas": null,
            "grid_template_columns": null,
            "grid_template_rows": null,
            "height": null,
            "justify_content": null,
            "justify_items": null,
            "left": null,
            "margin": null,
            "max_height": null,
            "max_width": null,
            "min_height": null,
            "min_width": null,
            "object_fit": null,
            "object_position": null,
            "order": null,
            "overflow": null,
            "overflow_x": null,
            "overflow_y": null,
            "padding": null,
            "right": null,
            "top": null,
            "visibility": null,
            "width": null
          }
        },
        "3a0c5b06dc654619837cfa8bd6acda40": {
          "model_module": "@jupyter-widgets/controls",
          "model_name": "ProgressStyleModel",
          "model_module_version": "1.5.0",
          "state": {
            "_model_module": "@jupyter-widgets/controls",
            "_model_module_version": "1.5.0",
            "_model_name": "ProgressStyleModel",
            "_view_count": null,
            "_view_module": "@jupyter-widgets/base",
            "_view_module_version": "1.2.0",
            "_view_name": "StyleView",
            "bar_color": null,
            "description_width": ""
          }
        },
        "492307cf21db4b2bb679ccca55f2ff1b": {
          "model_module": "@jupyter-widgets/base",
          "model_name": "LayoutModel",
          "model_module_version": "1.2.0",
          "state": {
            "_model_module": "@jupyter-widgets/base",
            "_model_module_version": "1.2.0",
            "_model_name": "LayoutModel",
            "_view_count": null,
            "_view_module": "@jupyter-widgets/base",
            "_view_module_version": "1.2.0",
            "_view_name": "LayoutView",
            "align_content": null,
            "align_items": null,
            "align_self": null,
            "border": null,
            "bottom": null,
            "display": null,
            "flex": null,
            "flex_flow": null,
            "grid_area": null,
            "grid_auto_columns": null,
            "grid_auto_flow": null,
            "grid_auto_rows": null,
            "grid_column": null,
            "grid_gap": null,
            "grid_row": null,
            "grid_template_areas": null,
            "grid_template_columns": null,
            "grid_template_rows": null,
            "height": null,
            "justify_content": null,
            "justify_items": null,
            "left": null,
            "margin": null,
            "max_height": null,
            "max_width": null,
            "min_height": null,
            "min_width": null,
            "object_fit": null,
            "object_position": null,
            "order": null,
            "overflow": null,
            "overflow_x": null,
            "overflow_y": null,
            "padding": null,
            "right": null,
            "top": null,
            "visibility": null,
            "width": null
          }
        },
        "5eb7933460254d4a9eff7e6c9dd6ef67": {
          "model_module": "@jupyter-widgets/controls",
          "model_name": "DescriptionStyleModel",
          "model_module_version": "1.5.0",
          "state": {
            "_model_module": "@jupyter-widgets/controls",
            "_model_module_version": "1.5.0",
            "_model_name": "DescriptionStyleModel",
            "_view_count": null,
            "_view_module": "@jupyter-widgets/base",
            "_view_module_version": "1.2.0",
            "_view_name": "StyleView",
            "description_width": ""
          }
        },
        "cb76402c62ae43e78a7cfcc517084326": {
          "model_module": "@jupyter-widgets/controls",
          "model_name": "HBoxModel",
          "model_module_version": "1.5.0",
          "state": {
            "_dom_classes": [],
            "_model_module": "@jupyter-widgets/controls",
            "_model_module_version": "1.5.0",
            "_model_name": "HBoxModel",
            "_view_count": null,
            "_view_module": "@jupyter-widgets/controls",
            "_view_module_version": "1.5.0",
            "_view_name": "HBoxView",
            "box_style": "",
            "children": [
              "IPY_MODEL_ad9587e8ce3e4353bbaa984b92c52ff2",
              "IPY_MODEL_1b57e9a6c2d2417dbf3efb24ed4f2073",
              "IPY_MODEL_dd7c7bd7ed0645308e90c45924b7f563"
            ],
            "layout": "IPY_MODEL_b30763c80e7545008f5e7ecca32f83bd"
          }
        },
        "ad9587e8ce3e4353bbaa984b92c52ff2": {
          "model_module": "@jupyter-widgets/controls",
          "model_name": "HTMLModel",
          "model_module_version": "1.5.0",
          "state": {
            "_dom_classes": [],
            "_model_module": "@jupyter-widgets/controls",
            "_model_module_version": "1.5.0",
            "_model_name": "HTMLModel",
            "_view_count": null,
            "_view_module": "@jupyter-widgets/controls",
            "_view_module_version": "1.5.0",
            "_view_name": "HTMLView",
            "description": "",
            "description_tooltip": null,
            "layout": "IPY_MODEL_860d95b1620d43f8acdb0e20564a379a",
            "placeholder": "​",
            "style": "IPY_MODEL_6f459f37e8cf47d9876ed5b4b054508c",
            "value": "Época [2/5] Treino (LR=0.0001): 100%"
          }
        },
        "1b57e9a6c2d2417dbf3efb24ed4f2073": {
          "model_module": "@jupyter-widgets/controls",
          "model_name": "FloatProgressModel",
          "model_module_version": "1.5.0",
          "state": {
            "_dom_classes": [],
            "_model_module": "@jupyter-widgets/controls",
            "_model_module_version": "1.5.0",
            "_model_name": "FloatProgressModel",
            "_view_count": null,
            "_view_module": "@jupyter-widgets/controls",
            "_view_module_version": "1.5.0",
            "_view_name": "ProgressView",
            "bar_style": "success",
            "description": "",
            "description_tooltip": null,
            "layout": "IPY_MODEL_9cef291ea225416b87e913bdbcc39112",
            "max": 469,
            "min": 0,
            "orientation": "horizontal",
            "style": "IPY_MODEL_3646cb344e8647b9917f4043cd82d053",
            "value": 469
          }
        },
        "dd7c7bd7ed0645308e90c45924b7f563": {
          "model_module": "@jupyter-widgets/controls",
          "model_name": "HTMLModel",
          "model_module_version": "1.5.0",
          "state": {
            "_dom_classes": [],
            "_model_module": "@jupyter-widgets/controls",
            "_model_module_version": "1.5.0",
            "_model_name": "HTMLModel",
            "_view_count": null,
            "_view_module": "@jupyter-widgets/controls",
            "_view_module_version": "1.5.0",
            "_view_name": "HTMLView",
            "description": "",
            "description_tooltip": null,
            "layout": "IPY_MODEL_ec8ce7ccd24440468c991d4630489b89",
            "placeholder": "​",
            "style": "IPY_MODEL_10dfabb1b73048d0a785b1b1c95c79a8",
            "value": " 469/469 [00:22&lt;00:00, 23.08it/s, Perda Treino=0.1677]"
          }
        },
        "b30763c80e7545008f5e7ecca32f83bd": {
          "model_module": "@jupyter-widgets/base",
          "model_name": "LayoutModel",
          "model_module_version": "1.2.0",
          "state": {
            "_model_module": "@jupyter-widgets/base",
            "_model_module_version": "1.2.0",
            "_model_name": "LayoutModel",
            "_view_count": null,
            "_view_module": "@jupyter-widgets/base",
            "_view_module_version": "1.2.0",
            "_view_name": "LayoutView",
            "align_content": null,
            "align_items": null,
            "align_self": null,
            "border": null,
            "bottom": null,
            "display": null,
            "flex": null,
            "flex_flow": null,
            "grid_area": null,
            "grid_auto_columns": null,
            "grid_auto_flow": null,
            "grid_auto_rows": null,
            "grid_column": null,
            "grid_gap": null,
            "grid_row": null,
            "grid_template_areas": null,
            "grid_template_columns": null,
            "grid_template_rows": null,
            "height": null,
            "justify_content": null,
            "justify_items": null,
            "left": null,
            "margin": null,
            "max_height": null,
            "max_width": null,
            "min_height": null,
            "min_width": null,
            "object_fit": null,
            "object_position": null,
            "order": null,
            "overflow": null,
            "overflow_x": null,
            "overflow_y": null,
            "padding": null,
            "right": null,
            "top": null,
            "visibility": null,
            "width": null
          }
        },
        "860d95b1620d43f8acdb0e20564a379a": {
          "model_module": "@jupyter-widgets/base",
          "model_name": "LayoutModel",
          "model_module_version": "1.2.0",
          "state": {
            "_model_module": "@jupyter-widgets/base",
            "_model_module_version": "1.2.0",
            "_model_name": "LayoutModel",
            "_view_count": null,
            "_view_module": "@jupyter-widgets/base",
            "_view_module_version": "1.2.0",
            "_view_name": "LayoutView",
            "align_content": null,
            "align_items": null,
            "align_self": null,
            "border": null,
            "bottom": null,
            "display": null,
            "flex": null,
            "flex_flow": null,
            "grid_area": null,
            "grid_auto_columns": null,
            "grid_auto_flow": null,
            "grid_auto_rows": null,
            "grid_column": null,
            "grid_gap": null,
            "grid_row": null,
            "grid_template_areas": null,
            "grid_template_columns": null,
            "grid_template_rows": null,
            "height": null,
            "justify_content": null,
            "justify_items": null,
            "left": null,
            "margin": null,
            "max_height": null,
            "max_width": null,
            "min_height": null,
            "min_width": null,
            "object_fit": null,
            "object_position": null,
            "order": null,
            "overflow": null,
            "overflow_x": null,
            "overflow_y": null,
            "padding": null,
            "right": null,
            "top": null,
            "visibility": null,
            "width": null
          }
        },
        "6f459f37e8cf47d9876ed5b4b054508c": {
          "model_module": "@jupyter-widgets/controls",
          "model_name": "DescriptionStyleModel",
          "model_module_version": "1.5.0",
          "state": {
            "_model_module": "@jupyter-widgets/controls",
            "_model_module_version": "1.5.0",
            "_model_name": "DescriptionStyleModel",
            "_view_count": null,
            "_view_module": "@jupyter-widgets/base",
            "_view_module_version": "1.2.0",
            "_view_name": "StyleView",
            "description_width": ""
          }
        },
        "9cef291ea225416b87e913bdbcc39112": {
          "model_module": "@jupyter-widgets/base",
          "model_name": "LayoutModel",
          "model_module_version": "1.2.0",
          "state": {
            "_model_module": "@jupyter-widgets/base",
            "_model_module_version": "1.2.0",
            "_model_name": "LayoutModel",
            "_view_count": null,
            "_view_module": "@jupyter-widgets/base",
            "_view_module_version": "1.2.0",
            "_view_name": "LayoutView",
            "align_content": null,
            "align_items": null,
            "align_self": null,
            "border": null,
            "bottom": null,
            "display": null,
            "flex": null,
            "flex_flow": null,
            "grid_area": null,
            "grid_auto_columns": null,
            "grid_auto_flow": null,
            "grid_auto_rows": null,
            "grid_column": null,
            "grid_gap": null,
            "grid_row": null,
            "grid_template_areas": null,
            "grid_template_columns": null,
            "grid_template_rows": null,
            "height": null,
            "justify_content": null,
            "justify_items": null,
            "left": null,
            "margin": null,
            "max_height": null,
            "max_width": null,
            "min_height": null,
            "min_width": null,
            "object_fit": null,
            "object_position": null,
            "order": null,
            "overflow": null,
            "overflow_x": null,
            "overflow_y": null,
            "padding": null,
            "right": null,
            "top": null,
            "visibility": null,
            "width": null
          }
        },
        "3646cb344e8647b9917f4043cd82d053": {
          "model_module": "@jupyter-widgets/controls",
          "model_name": "ProgressStyleModel",
          "model_module_version": "1.5.0",
          "state": {
            "_model_module": "@jupyter-widgets/controls",
            "_model_module_version": "1.5.0",
            "_model_name": "ProgressStyleModel",
            "_view_count": null,
            "_view_module": "@jupyter-widgets/base",
            "_view_module_version": "1.2.0",
            "_view_name": "StyleView",
            "bar_color": null,
            "description_width": ""
          }
        },
        "ec8ce7ccd24440468c991d4630489b89": {
          "model_module": "@jupyter-widgets/base",
          "model_name": "LayoutModel",
          "model_module_version": "1.2.0",
          "state": {
            "_model_module": "@jupyter-widgets/base",
            "_model_module_version": "1.2.0",
            "_model_name": "LayoutModel",
            "_view_count": null,
            "_view_module": "@jupyter-widgets/base",
            "_view_module_version": "1.2.0",
            "_view_name": "LayoutView",
            "align_content": null,
            "align_items": null,
            "align_self": null,
            "border": null,
            "bottom": null,
            "display": null,
            "flex": null,
            "flex_flow": null,
            "grid_area": null,
            "grid_auto_columns": null,
            "grid_auto_flow": null,
            "grid_auto_rows": null,
            "grid_column": null,
            "grid_gap": null,
            "grid_row": null,
            "grid_template_areas": null,
            "grid_template_columns": null,
            "grid_template_rows": null,
            "height": null,
            "justify_content": null,
            "justify_items": null,
            "left": null,
            "margin": null,
            "max_height": null,
            "max_width": null,
            "min_height": null,
            "min_width": null,
            "object_fit": null,
            "object_position": null,
            "order": null,
            "overflow": null,
            "overflow_x": null,
            "overflow_y": null,
            "padding": null,
            "right": null,
            "top": null,
            "visibility": null,
            "width": null
          }
        },
        "10dfabb1b73048d0a785b1b1c95c79a8": {
          "model_module": "@jupyter-widgets/controls",
          "model_name": "DescriptionStyleModel",
          "model_module_version": "1.5.0",
          "state": {
            "_model_module": "@jupyter-widgets/controls",
            "_model_module_version": "1.5.0",
            "_model_name": "DescriptionStyleModel",
            "_view_count": null,
            "_view_module": "@jupyter-widgets/base",
            "_view_module_version": "1.2.0",
            "_view_name": "StyleView",
            "description_width": ""
          }
        },
        "87532297ac284a289c57f644374f1775": {
          "model_module": "@jupyter-widgets/controls",
          "model_name": "HBoxModel",
          "model_module_version": "1.5.0",
          "state": {
            "_dom_classes": [],
            "_model_module": "@jupyter-widgets/controls",
            "_model_module_version": "1.5.0",
            "_model_name": "HBoxModel",
            "_view_count": null,
            "_view_module": "@jupyter-widgets/controls",
            "_view_module_version": "1.5.0",
            "_view_name": "HBoxView",
            "box_style": "",
            "children": [
              "IPY_MODEL_37b4b9e759f445c0b1b03e8803833ace",
              "IPY_MODEL_2a03081f80da43f8932ab41a5a27ee5d",
              "IPY_MODEL_d118ab5d914e4773bb9f60e50b2e9a2d"
            ],
            "layout": "IPY_MODEL_c9ade61541b4432fa5de6d42cc68126a"
          }
        },
        "37b4b9e759f445c0b1b03e8803833ace": {
          "model_module": "@jupyter-widgets/controls",
          "model_name": "HTMLModel",
          "model_module_version": "1.5.0",
          "state": {
            "_dom_classes": [],
            "_model_module": "@jupyter-widgets/controls",
            "_model_module_version": "1.5.0",
            "_model_name": "HTMLModel",
            "_view_count": null,
            "_view_module": "@jupyter-widgets/controls",
            "_view_module_version": "1.5.0",
            "_view_name": "HTMLView",
            "description": "",
            "description_tooltip": null,
            "layout": "IPY_MODEL_a059b72fb56d4724906b58e7668712b3",
            "placeholder": "​",
            "style": "IPY_MODEL_94018dd3358e46ef8642727350ef9f74",
            "value": "Época [2/5] Validação (LR=0.0001):   0%"
          }
        },
        "2a03081f80da43f8932ab41a5a27ee5d": {
          "model_module": "@jupyter-widgets/controls",
          "model_name": "FloatProgressModel",
          "model_module_version": "1.5.0",
          "state": {
            "_dom_classes": [],
            "_model_module": "@jupyter-widgets/controls",
            "_model_module_version": "1.5.0",
            "_model_name": "FloatProgressModel",
            "_view_count": null,
            "_view_module": "@jupyter-widgets/controls",
            "_view_module_version": "1.5.0",
            "_view_name": "ProgressView",
            "bar_style": "danger",
            "description": "",
            "description_tooltip": null,
            "layout": "IPY_MODEL_37c6d7d05d9c47b7a7c36e669ac2f932",
            "max": 79,
            "min": 0,
            "orientation": "horizontal",
            "style": "IPY_MODEL_393afee69c114bd09b27466592c79423",
            "value": 0
          }
        },
        "d118ab5d914e4773bb9f60e50b2e9a2d": {
          "model_module": "@jupyter-widgets/controls",
          "model_name": "HTMLModel",
          "model_module_version": "1.5.0",
          "state": {
            "_dom_classes": [],
            "_model_module": "@jupyter-widgets/controls",
            "_model_module_version": "1.5.0",
            "_model_name": "HTMLModel",
            "_view_count": null,
            "_view_module": "@jupyter-widgets/controls",
            "_view_module_version": "1.5.0",
            "_view_name": "HTMLView",
            "description": "",
            "description_tooltip": null,
            "layout": "IPY_MODEL_94b6a7e02e5f4f66ba2992a1fab26292",
            "placeholder": "​",
            "style": "IPY_MODEL_2bd5699c8caf4c5ab09574f2e2f19564",
            "value": " 0/79 [00:33&lt;?, ?it/s, Perda Val=0.1120]"
          }
        },
        "c9ade61541b4432fa5de6d42cc68126a": {
          "model_module": "@jupyter-widgets/base",
          "model_name": "LayoutModel",
          "model_module_version": "1.2.0",
          "state": {
            "_model_module": "@jupyter-widgets/base",
            "_model_module_version": "1.2.0",
            "_model_name": "LayoutModel",
            "_view_count": null,
            "_view_module": "@jupyter-widgets/base",
            "_view_module_version": "1.2.0",
            "_view_name": "LayoutView",
            "align_content": null,
            "align_items": null,
            "align_self": null,
            "border": null,
            "bottom": null,
            "display": null,
            "flex": null,
            "flex_flow": null,
            "grid_area": null,
            "grid_auto_columns": null,
            "grid_auto_flow": null,
            "grid_auto_rows": null,
            "grid_column": null,
            "grid_gap": null,
            "grid_row": null,
            "grid_template_areas": null,
            "grid_template_columns": null,
            "grid_template_rows": null,
            "height": null,
            "justify_content": null,
            "justify_items": null,
            "left": null,
            "margin": null,
            "max_height": null,
            "max_width": null,
            "min_height": null,
            "min_width": null,
            "object_fit": null,
            "object_position": null,
            "order": null,
            "overflow": null,
            "overflow_x": null,
            "overflow_y": null,
            "padding": null,
            "right": null,
            "top": null,
            "visibility": null,
            "width": null
          }
        },
        "a059b72fb56d4724906b58e7668712b3": {
          "model_module": "@jupyter-widgets/base",
          "model_name": "LayoutModel",
          "model_module_version": "1.2.0",
          "state": {
            "_model_module": "@jupyter-widgets/base",
            "_model_module_version": "1.2.0",
            "_model_name": "LayoutModel",
            "_view_count": null,
            "_view_module": "@jupyter-widgets/base",
            "_view_module_version": "1.2.0",
            "_view_name": "LayoutView",
            "align_content": null,
            "align_items": null,
            "align_self": null,
            "border": null,
            "bottom": null,
            "display": null,
            "flex": null,
            "flex_flow": null,
            "grid_area": null,
            "grid_auto_columns": null,
            "grid_auto_flow": null,
            "grid_auto_rows": null,
            "grid_column": null,
            "grid_gap": null,
            "grid_row": null,
            "grid_template_areas": null,
            "grid_template_columns": null,
            "grid_template_rows": null,
            "height": null,
            "justify_content": null,
            "justify_items": null,
            "left": null,
            "margin": null,
            "max_height": null,
            "max_width": null,
            "min_height": null,
            "min_width": null,
            "object_fit": null,
            "object_position": null,
            "order": null,
            "overflow": null,
            "overflow_x": null,
            "overflow_y": null,
            "padding": null,
            "right": null,
            "top": null,
            "visibility": null,
            "width": null
          }
        },
        "94018dd3358e46ef8642727350ef9f74": {
          "model_module": "@jupyter-widgets/controls",
          "model_name": "DescriptionStyleModel",
          "model_module_version": "1.5.0",
          "state": {
            "_model_module": "@jupyter-widgets/controls",
            "_model_module_version": "1.5.0",
            "_model_name": "DescriptionStyleModel",
            "_view_count": null,
            "_view_module": "@jupyter-widgets/base",
            "_view_module_version": "1.2.0",
            "_view_name": "StyleView",
            "description_width": ""
          }
        },
        "37c6d7d05d9c47b7a7c36e669ac2f932": {
          "model_module": "@jupyter-widgets/base",
          "model_name": "LayoutModel",
          "model_module_version": "1.2.0",
          "state": {
            "_model_module": "@jupyter-widgets/base",
            "_model_module_version": "1.2.0",
            "_model_name": "LayoutModel",
            "_view_count": null,
            "_view_module": "@jupyter-widgets/base",
            "_view_module_version": "1.2.0",
            "_view_name": "LayoutView",
            "align_content": null,
            "align_items": null,
            "align_self": null,
            "border": null,
            "bottom": null,
            "display": null,
            "flex": null,
            "flex_flow": null,
            "grid_area": null,
            "grid_auto_columns": null,
            "grid_auto_flow": null,
            "grid_auto_rows": null,
            "grid_column": null,
            "grid_gap": null,
            "grid_row": null,
            "grid_template_areas": null,
            "grid_template_columns": null,
            "grid_template_rows": null,
            "height": null,
            "justify_content": null,
            "justify_items": null,
            "left": null,
            "margin": null,
            "max_height": null,
            "max_width": null,
            "min_height": null,
            "min_width": null,
            "object_fit": null,
            "object_position": null,
            "order": null,
            "overflow": null,
            "overflow_x": null,
            "overflow_y": null,
            "padding": null,
            "right": null,
            "top": null,
            "visibility": null,
            "width": null
          }
        },
        "393afee69c114bd09b27466592c79423": {
          "model_module": "@jupyter-widgets/controls",
          "model_name": "ProgressStyleModel",
          "model_module_version": "1.5.0",
          "state": {
            "_model_module": "@jupyter-widgets/controls",
            "_model_module_version": "1.5.0",
            "_model_name": "ProgressStyleModel",
            "_view_count": null,
            "_view_module": "@jupyter-widgets/base",
            "_view_module_version": "1.2.0",
            "_view_name": "StyleView",
            "bar_color": null,
            "description_width": ""
          }
        },
        "94b6a7e02e5f4f66ba2992a1fab26292": {
          "model_module": "@jupyter-widgets/base",
          "model_name": "LayoutModel",
          "model_module_version": "1.2.0",
          "state": {
            "_model_module": "@jupyter-widgets/base",
            "_model_module_version": "1.2.0",
            "_model_name": "LayoutModel",
            "_view_count": null,
            "_view_module": "@jupyter-widgets/base",
            "_view_module_version": "1.2.0",
            "_view_name": "LayoutView",
            "align_content": null,
            "align_items": null,
            "align_self": null,
            "border": null,
            "bottom": null,
            "display": null,
            "flex": null,
            "flex_flow": null,
            "grid_area": null,
            "grid_auto_columns": null,
            "grid_auto_flow": null,
            "grid_auto_rows": null,
            "grid_column": null,
            "grid_gap": null,
            "grid_row": null,
            "grid_template_areas": null,
            "grid_template_columns": null,
            "grid_template_rows": null,
            "height": null,
            "justify_content": null,
            "justify_items": null,
            "left": null,
            "margin": null,
            "max_height": null,
            "max_width": null,
            "min_height": null,
            "min_width": null,
            "object_fit": null,
            "object_position": null,
            "order": null,
            "overflow": null,
            "overflow_x": null,
            "overflow_y": null,
            "padding": null,
            "right": null,
            "top": null,
            "visibility": null,
            "width": null
          }
        },
        "2bd5699c8caf4c5ab09574f2e2f19564": {
          "model_module": "@jupyter-widgets/controls",
          "model_name": "DescriptionStyleModel",
          "model_module_version": "1.5.0",
          "state": {
            "_model_module": "@jupyter-widgets/controls",
            "_model_module_version": "1.5.0",
            "_model_name": "DescriptionStyleModel",
            "_view_count": null,
            "_view_module": "@jupyter-widgets/base",
            "_view_module_version": "1.2.0",
            "_view_name": "StyleView",
            "description_width": ""
          }
        },
        "f8ba9d98fe55495ca6e8c9fd463e1748": {
          "model_module": "@jupyter-widgets/controls",
          "model_name": "HBoxModel",
          "model_module_version": "1.5.0",
          "state": {
            "_dom_classes": [],
            "_model_module": "@jupyter-widgets/controls",
            "_model_module_version": "1.5.0",
            "_model_name": "HBoxModel",
            "_view_count": null,
            "_view_module": "@jupyter-widgets/controls",
            "_view_module_version": "1.5.0",
            "_view_name": "HBoxView",
            "box_style": "",
            "children": [
              "IPY_MODEL_eb7cb3f661a94d08a52daeb4aa36c8c7",
              "IPY_MODEL_4c839629a467452b870b41e428034343",
              "IPY_MODEL_b43760bf6cd34bf0ac5db2311508a52d"
            ],
            "layout": "IPY_MODEL_04a6dd942f9d4f5d887835e1f374ccaa"
          }
        },
        "eb7cb3f661a94d08a52daeb4aa36c8c7": {
          "model_module": "@jupyter-widgets/controls",
          "model_name": "HTMLModel",
          "model_module_version": "1.5.0",
          "state": {
            "_dom_classes": [],
            "_model_module": "@jupyter-widgets/controls",
            "_model_module_version": "1.5.0",
            "_model_name": "HTMLModel",
            "_view_count": null,
            "_view_module": "@jupyter-widgets/controls",
            "_view_module_version": "1.5.0",
            "_view_name": "HTMLView",
            "description": "",
            "description_tooltip": null,
            "layout": "IPY_MODEL_c61dff602a964ac6a854308f1b1999cf",
            "placeholder": "​",
            "style": "IPY_MODEL_af5ad92919f5488eb25dfe7fc319e922",
            "value": "Época [3/5] Treino (LR=0.0001): 100%"
          }
        },
        "4c839629a467452b870b41e428034343": {
          "model_module": "@jupyter-widgets/controls",
          "model_name": "FloatProgressModel",
          "model_module_version": "1.5.0",
          "state": {
            "_dom_classes": [],
            "_model_module": "@jupyter-widgets/controls",
            "_model_module_version": "1.5.0",
            "_model_name": "FloatProgressModel",
            "_view_count": null,
            "_view_module": "@jupyter-widgets/controls",
            "_view_module_version": "1.5.0",
            "_view_name": "ProgressView",
            "bar_style": "success",
            "description": "",
            "description_tooltip": null,
            "layout": "IPY_MODEL_002e422fc31c4d3dafb5f4f84331e805",
            "max": 469,
            "min": 0,
            "orientation": "horizontal",
            "style": "IPY_MODEL_acafff9b48c54ef1a18ed000f4468aaf",
            "value": 469
          }
        },
        "b43760bf6cd34bf0ac5db2311508a52d": {
          "model_module": "@jupyter-widgets/controls",
          "model_name": "HTMLModel",
          "model_module_version": "1.5.0",
          "state": {
            "_dom_classes": [],
            "_model_module": "@jupyter-widgets/controls",
            "_model_module_version": "1.5.0",
            "_model_name": "HTMLModel",
            "_view_count": null,
            "_view_module": "@jupyter-widgets/controls",
            "_view_module_version": "1.5.0",
            "_view_name": "HTMLView",
            "description": "",
            "description_tooltip": null,
            "layout": "IPY_MODEL_77e0b86f7dfc43eeabf98356db385500",
            "placeholder": "​",
            "style": "IPY_MODEL_6a5bc3038ea24fc486a389322b67437e",
            "value": " 469/469 [00:23&lt;00:00, 23.49it/s, Perda Treino=0.2618]"
          }
        },
        "04a6dd942f9d4f5d887835e1f374ccaa": {
          "model_module": "@jupyter-widgets/base",
          "model_name": "LayoutModel",
          "model_module_version": "1.2.0",
          "state": {
            "_model_module": "@jupyter-widgets/base",
            "_model_module_version": "1.2.0",
            "_model_name": "LayoutModel",
            "_view_count": null,
            "_view_module": "@jupyter-widgets/base",
            "_view_module_version": "1.2.0",
            "_view_name": "LayoutView",
            "align_content": null,
            "align_items": null,
            "align_self": null,
            "border": null,
            "bottom": null,
            "display": null,
            "flex": null,
            "flex_flow": null,
            "grid_area": null,
            "grid_auto_columns": null,
            "grid_auto_flow": null,
            "grid_auto_rows": null,
            "grid_column": null,
            "grid_gap": null,
            "grid_row": null,
            "grid_template_areas": null,
            "grid_template_columns": null,
            "grid_template_rows": null,
            "height": null,
            "justify_content": null,
            "justify_items": null,
            "left": null,
            "margin": null,
            "max_height": null,
            "max_width": null,
            "min_height": null,
            "min_width": null,
            "object_fit": null,
            "object_position": null,
            "order": null,
            "overflow": null,
            "overflow_x": null,
            "overflow_y": null,
            "padding": null,
            "right": null,
            "top": null,
            "visibility": null,
            "width": null
          }
        },
        "c61dff602a964ac6a854308f1b1999cf": {
          "model_module": "@jupyter-widgets/base",
          "model_name": "LayoutModel",
          "model_module_version": "1.2.0",
          "state": {
            "_model_module": "@jupyter-widgets/base",
            "_model_module_version": "1.2.0",
            "_model_name": "LayoutModel",
            "_view_count": null,
            "_view_module": "@jupyter-widgets/base",
            "_view_module_version": "1.2.0",
            "_view_name": "LayoutView",
            "align_content": null,
            "align_items": null,
            "align_self": null,
            "border": null,
            "bottom": null,
            "display": null,
            "flex": null,
            "flex_flow": null,
            "grid_area": null,
            "grid_auto_columns": null,
            "grid_auto_flow": null,
            "grid_auto_rows": null,
            "grid_column": null,
            "grid_gap": null,
            "grid_row": null,
            "grid_template_areas": null,
            "grid_template_columns": null,
            "grid_template_rows": null,
            "height": null,
            "justify_content": null,
            "justify_items": null,
            "left": null,
            "margin": null,
            "max_height": null,
            "max_width": null,
            "min_height": null,
            "min_width": null,
            "object_fit": null,
            "object_position": null,
            "order": null,
            "overflow": null,
            "overflow_x": null,
            "overflow_y": null,
            "padding": null,
            "right": null,
            "top": null,
            "visibility": null,
            "width": null
          }
        },
        "af5ad92919f5488eb25dfe7fc319e922": {
          "model_module": "@jupyter-widgets/controls",
          "model_name": "DescriptionStyleModel",
          "model_module_version": "1.5.0",
          "state": {
            "_model_module": "@jupyter-widgets/controls",
            "_model_module_version": "1.5.0",
            "_model_name": "DescriptionStyleModel",
            "_view_count": null,
            "_view_module": "@jupyter-widgets/base",
            "_view_module_version": "1.2.0",
            "_view_name": "StyleView",
            "description_width": ""
          }
        },
        "002e422fc31c4d3dafb5f4f84331e805": {
          "model_module": "@jupyter-widgets/base",
          "model_name": "LayoutModel",
          "model_module_version": "1.2.0",
          "state": {
            "_model_module": "@jupyter-widgets/base",
            "_model_module_version": "1.2.0",
            "_model_name": "LayoutModel",
            "_view_count": null,
            "_view_module": "@jupyter-widgets/base",
            "_view_module_version": "1.2.0",
            "_view_name": "LayoutView",
            "align_content": null,
            "align_items": null,
            "align_self": null,
            "border": null,
            "bottom": null,
            "display": null,
            "flex": null,
            "flex_flow": null,
            "grid_area": null,
            "grid_auto_columns": null,
            "grid_auto_flow": null,
            "grid_auto_rows": null,
            "grid_column": null,
            "grid_gap": null,
            "grid_row": null,
            "grid_template_areas": null,
            "grid_template_columns": null,
            "grid_template_rows": null,
            "height": null,
            "justify_content": null,
            "justify_items": null,
            "left": null,
            "margin": null,
            "max_height": null,
            "max_width": null,
            "min_height": null,
            "min_width": null,
            "object_fit": null,
            "object_position": null,
            "order": null,
            "overflow": null,
            "overflow_x": null,
            "overflow_y": null,
            "padding": null,
            "right": null,
            "top": null,
            "visibility": null,
            "width": null
          }
        },
        "acafff9b48c54ef1a18ed000f4468aaf": {
          "model_module": "@jupyter-widgets/controls",
          "model_name": "ProgressStyleModel",
          "model_module_version": "1.5.0",
          "state": {
            "_model_module": "@jupyter-widgets/controls",
            "_model_module_version": "1.5.0",
            "_model_name": "ProgressStyleModel",
            "_view_count": null,
            "_view_module": "@jupyter-widgets/base",
            "_view_module_version": "1.2.0",
            "_view_name": "StyleView",
            "bar_color": null,
            "description_width": ""
          }
        },
        "77e0b86f7dfc43eeabf98356db385500": {
          "model_module": "@jupyter-widgets/base",
          "model_name": "LayoutModel",
          "model_module_version": "1.2.0",
          "state": {
            "_model_module": "@jupyter-widgets/base",
            "_model_module_version": "1.2.0",
            "_model_name": "LayoutModel",
            "_view_count": null,
            "_view_module": "@jupyter-widgets/base",
            "_view_module_version": "1.2.0",
            "_view_name": "LayoutView",
            "align_content": null,
            "align_items": null,
            "align_self": null,
            "border": null,
            "bottom": null,
            "display": null,
            "flex": null,
            "flex_flow": null,
            "grid_area": null,
            "grid_auto_columns": null,
            "grid_auto_flow": null,
            "grid_auto_rows": null,
            "grid_column": null,
            "grid_gap": null,
            "grid_row": null,
            "grid_template_areas": null,
            "grid_template_columns": null,
            "grid_template_rows": null,
            "height": null,
            "justify_content": null,
            "justify_items": null,
            "left": null,
            "margin": null,
            "max_height": null,
            "max_width": null,
            "min_height": null,
            "min_width": null,
            "object_fit": null,
            "object_position": null,
            "order": null,
            "overflow": null,
            "overflow_x": null,
            "overflow_y": null,
            "padding": null,
            "right": null,
            "top": null,
            "visibility": null,
            "width": null
          }
        },
        "6a5bc3038ea24fc486a389322b67437e": {
          "model_module": "@jupyter-widgets/controls",
          "model_name": "DescriptionStyleModel",
          "model_module_version": "1.5.0",
          "state": {
            "_model_module": "@jupyter-widgets/controls",
            "_model_module_version": "1.5.0",
            "_model_name": "DescriptionStyleModel",
            "_view_count": null,
            "_view_module": "@jupyter-widgets/base",
            "_view_module_version": "1.2.0",
            "_view_name": "StyleView",
            "description_width": ""
          }
        },
        "6ee842c4f53b4d238f0c144bee4705ef": {
          "model_module": "@jupyter-widgets/controls",
          "model_name": "HBoxModel",
          "model_module_version": "1.5.0",
          "state": {
            "_dom_classes": [],
            "_model_module": "@jupyter-widgets/controls",
            "_model_module_version": "1.5.0",
            "_model_name": "HBoxModel",
            "_view_count": null,
            "_view_module": "@jupyter-widgets/controls",
            "_view_module_version": "1.5.0",
            "_view_name": "HBoxView",
            "box_style": "",
            "children": [
              "IPY_MODEL_0ab36a9507db44c78c9542d901e128dd",
              "IPY_MODEL_6a90900de9ac4c4b9921140328961eda",
              "IPY_MODEL_b59d0e444a1140deb128f8738068b1a7"
            ],
            "layout": "IPY_MODEL_dea2917325a34fed91da0fd45a9a4eb5"
          }
        },
        "0ab36a9507db44c78c9542d901e128dd": {
          "model_module": "@jupyter-widgets/controls",
          "model_name": "HTMLModel",
          "model_module_version": "1.5.0",
          "state": {
            "_dom_classes": [],
            "_model_module": "@jupyter-widgets/controls",
            "_model_module_version": "1.5.0",
            "_model_name": "HTMLModel",
            "_view_count": null,
            "_view_module": "@jupyter-widgets/controls",
            "_view_module_version": "1.5.0",
            "_view_name": "HTMLView",
            "description": "",
            "description_tooltip": null,
            "layout": "IPY_MODEL_8c06bb858a5d43458730b3739d65eba3",
            "placeholder": "​",
            "style": "IPY_MODEL_6829daf8957e4eb1bf0b8802b563de4b",
            "value": "Época [3/5] Validação (LR=0.0001):   0%"
          }
        },
        "6a90900de9ac4c4b9921140328961eda": {
          "model_module": "@jupyter-widgets/controls",
          "model_name": "FloatProgressModel",
          "model_module_version": "1.5.0",
          "state": {
            "_dom_classes": [],
            "_model_module": "@jupyter-widgets/controls",
            "_model_module_version": "1.5.0",
            "_model_name": "FloatProgressModel",
            "_view_count": null,
            "_view_module": "@jupyter-widgets/controls",
            "_view_module_version": "1.5.0",
            "_view_name": "ProgressView",
            "bar_style": "",
            "description": "",
            "description_tooltip": null,
            "layout": "IPY_MODEL_a16940ba3aeb4be98948b6513bd9c163",
            "max": 79,
            "min": 0,
            "orientation": "horizontal",
            "style": "IPY_MODEL_a20c90dee4d946749811c0bcefa7c498",
            "value": 0
          }
        },
        "b59d0e444a1140deb128f8738068b1a7": {
          "model_module": "@jupyter-widgets/controls",
          "model_name": "HTMLModel",
          "model_module_version": "1.5.0",
          "state": {
            "_dom_classes": [],
            "_model_module": "@jupyter-widgets/controls",
            "_model_module_version": "1.5.0",
            "_model_name": "HTMLModel",
            "_view_count": null,
            "_view_module": "@jupyter-widgets/controls",
            "_view_module_version": "1.5.0",
            "_view_name": "HTMLView",
            "description": "",
            "description_tooltip": null,
            "layout": "IPY_MODEL_905fbbcd7ac44986992c76ef563dc81c",
            "placeholder": "​",
            "style": "IPY_MODEL_1d7d607890b04e07b318a75d57120cfa",
            "value": " 0/79 [00:02&lt;?, ?it/s, Perda Val=0.0739]"
          }
        },
        "dea2917325a34fed91da0fd45a9a4eb5": {
          "model_module": "@jupyter-widgets/base",
          "model_name": "LayoutModel",
          "model_module_version": "1.2.0",
          "state": {
            "_model_module": "@jupyter-widgets/base",
            "_model_module_version": "1.2.0",
            "_model_name": "LayoutModel",
            "_view_count": null,
            "_view_module": "@jupyter-widgets/base",
            "_view_module_version": "1.2.0",
            "_view_name": "LayoutView",
            "align_content": null,
            "align_items": null,
            "align_self": null,
            "border": null,
            "bottom": null,
            "display": null,
            "flex": null,
            "flex_flow": null,
            "grid_area": null,
            "grid_auto_columns": null,
            "grid_auto_flow": null,
            "grid_auto_rows": null,
            "grid_column": null,
            "grid_gap": null,
            "grid_row": null,
            "grid_template_areas": null,
            "grid_template_columns": null,
            "grid_template_rows": null,
            "height": null,
            "justify_content": null,
            "justify_items": null,
            "left": null,
            "margin": null,
            "max_height": null,
            "max_width": null,
            "min_height": null,
            "min_width": null,
            "object_fit": null,
            "object_position": null,
            "order": null,
            "overflow": null,
            "overflow_x": null,
            "overflow_y": null,
            "padding": null,
            "right": null,
            "top": null,
            "visibility": null,
            "width": null
          }
        },
        "8c06bb858a5d43458730b3739d65eba3": {
          "model_module": "@jupyter-widgets/base",
          "model_name": "LayoutModel",
          "model_module_version": "1.2.0",
          "state": {
            "_model_module": "@jupyter-widgets/base",
            "_model_module_version": "1.2.0",
            "_model_name": "LayoutModel",
            "_view_count": null,
            "_view_module": "@jupyter-widgets/base",
            "_view_module_version": "1.2.0",
            "_view_name": "LayoutView",
            "align_content": null,
            "align_items": null,
            "align_self": null,
            "border": null,
            "bottom": null,
            "display": null,
            "flex": null,
            "flex_flow": null,
            "grid_area": null,
            "grid_auto_columns": null,
            "grid_auto_flow": null,
            "grid_auto_rows": null,
            "grid_column": null,
            "grid_gap": null,
            "grid_row": null,
            "grid_template_areas": null,
            "grid_template_columns": null,
            "grid_template_rows": null,
            "height": null,
            "justify_content": null,
            "justify_items": null,
            "left": null,
            "margin": null,
            "max_height": null,
            "max_width": null,
            "min_height": null,
            "min_width": null,
            "object_fit": null,
            "object_position": null,
            "order": null,
            "overflow": null,
            "overflow_x": null,
            "overflow_y": null,
            "padding": null,
            "right": null,
            "top": null,
            "visibility": null,
            "width": null
          }
        },
        "6829daf8957e4eb1bf0b8802b563de4b": {
          "model_module": "@jupyter-widgets/controls",
          "model_name": "DescriptionStyleModel",
          "model_module_version": "1.5.0",
          "state": {
            "_model_module": "@jupyter-widgets/controls",
            "_model_module_version": "1.5.0",
            "_model_name": "DescriptionStyleModel",
            "_view_count": null,
            "_view_module": "@jupyter-widgets/base",
            "_view_module_version": "1.2.0",
            "_view_name": "StyleView",
            "description_width": ""
          }
        },
        "a16940ba3aeb4be98948b6513bd9c163": {
          "model_module": "@jupyter-widgets/base",
          "model_name": "LayoutModel",
          "model_module_version": "1.2.0",
          "state": {
            "_model_module": "@jupyter-widgets/base",
            "_model_module_version": "1.2.0",
            "_model_name": "LayoutModel",
            "_view_count": null,
            "_view_module": "@jupyter-widgets/base",
            "_view_module_version": "1.2.0",
            "_view_name": "LayoutView",
            "align_content": null,
            "align_items": null,
            "align_self": null,
            "border": null,
            "bottom": null,
            "display": null,
            "flex": null,
            "flex_flow": null,
            "grid_area": null,
            "grid_auto_columns": null,
            "grid_auto_flow": null,
            "grid_auto_rows": null,
            "grid_column": null,
            "grid_gap": null,
            "grid_row": null,
            "grid_template_areas": null,
            "grid_template_columns": null,
            "grid_template_rows": null,
            "height": null,
            "justify_content": null,
            "justify_items": null,
            "left": null,
            "margin": null,
            "max_height": null,
            "max_width": null,
            "min_height": null,
            "min_width": null,
            "object_fit": null,
            "object_position": null,
            "order": null,
            "overflow": null,
            "overflow_x": null,
            "overflow_y": null,
            "padding": null,
            "right": null,
            "top": null,
            "visibility": null,
            "width": null
          }
        },
        "a20c90dee4d946749811c0bcefa7c498": {
          "model_module": "@jupyter-widgets/controls",
          "model_name": "ProgressStyleModel",
          "model_module_version": "1.5.0",
          "state": {
            "_model_module": "@jupyter-widgets/controls",
            "_model_module_version": "1.5.0",
            "_model_name": "ProgressStyleModel",
            "_view_count": null,
            "_view_module": "@jupyter-widgets/base",
            "_view_module_version": "1.2.0",
            "_view_name": "StyleView",
            "bar_color": null,
            "description_width": ""
          }
        },
        "905fbbcd7ac44986992c76ef563dc81c": {
          "model_module": "@jupyter-widgets/base",
          "model_name": "LayoutModel",
          "model_module_version": "1.2.0",
          "state": {
            "_model_module": "@jupyter-widgets/base",
            "_model_module_version": "1.2.0",
            "_model_name": "LayoutModel",
            "_view_count": null,
            "_view_module": "@jupyter-widgets/base",
            "_view_module_version": "1.2.0",
            "_view_name": "LayoutView",
            "align_content": null,
            "align_items": null,
            "align_self": null,
            "border": null,
            "bottom": null,
            "display": null,
            "flex": null,
            "flex_flow": null,
            "grid_area": null,
            "grid_auto_columns": null,
            "grid_auto_flow": null,
            "grid_auto_rows": null,
            "grid_column": null,
            "grid_gap": null,
            "grid_row": null,
            "grid_template_areas": null,
            "grid_template_columns": null,
            "grid_template_rows": null,
            "height": null,
            "justify_content": null,
            "justify_items": null,
            "left": null,
            "margin": null,
            "max_height": null,
            "max_width": null,
            "min_height": null,
            "min_width": null,
            "object_fit": null,
            "object_position": null,
            "order": null,
            "overflow": null,
            "overflow_x": null,
            "overflow_y": null,
            "padding": null,
            "right": null,
            "top": null,
            "visibility": null,
            "width": null
          }
        },
        "1d7d607890b04e07b318a75d57120cfa": {
          "model_module": "@jupyter-widgets/controls",
          "model_name": "DescriptionStyleModel",
          "model_module_version": "1.5.0",
          "state": {
            "_model_module": "@jupyter-widgets/controls",
            "_model_module_version": "1.5.0",
            "_model_name": "DescriptionStyleModel",
            "_view_count": null,
            "_view_module": "@jupyter-widgets/base",
            "_view_module_version": "1.2.0",
            "_view_name": "StyleView",
            "description_width": ""
          }
        },
        "40f9855af92e4b6e8be6e86972e07b42": {
          "model_module": "@jupyter-widgets/controls",
          "model_name": "HBoxModel",
          "model_module_version": "1.5.0",
          "state": {
            "_dom_classes": [],
            "_model_module": "@jupyter-widgets/controls",
            "_model_module_version": "1.5.0",
            "_model_name": "HBoxModel",
            "_view_count": null,
            "_view_module": "@jupyter-widgets/controls",
            "_view_module_version": "1.5.0",
            "_view_name": "HBoxView",
            "box_style": "",
            "children": [
              "IPY_MODEL_eb3b1e927acb4ca1a3381e665e07f9de",
              "IPY_MODEL_561841590b8840ae857ebebf7a433aa7",
              "IPY_MODEL_ddb58ee607684e4887d265af56776313"
            ],
            "layout": "IPY_MODEL_221399047802419a87af67ec4a928ef0"
          }
        },
        "eb3b1e927acb4ca1a3381e665e07f9de": {
          "model_module": "@jupyter-widgets/controls",
          "model_name": "HTMLModel",
          "model_module_version": "1.5.0",
          "state": {
            "_dom_classes": [],
            "_model_module": "@jupyter-widgets/controls",
            "_model_module_version": "1.5.0",
            "_model_name": "HTMLModel",
            "_view_count": null,
            "_view_module": "@jupyter-widgets/controls",
            "_view_module_version": "1.5.0",
            "_view_name": "HTMLView",
            "description": "",
            "description_tooltip": null,
            "layout": "IPY_MODEL_f5cd263bdc1542dba2cedbf8ef7a6f80",
            "placeholder": "​",
            "style": "IPY_MODEL_4648bd27ad8c4263b01e863e44143a47",
            "value": "Época [4/5] Treino (LR=0.0001): 100%"
          }
        },
        "561841590b8840ae857ebebf7a433aa7": {
          "model_module": "@jupyter-widgets/controls",
          "model_name": "FloatProgressModel",
          "model_module_version": "1.5.0",
          "state": {
            "_dom_classes": [],
            "_model_module": "@jupyter-widgets/controls",
            "_model_module_version": "1.5.0",
            "_model_name": "FloatProgressModel",
            "_view_count": null,
            "_view_module": "@jupyter-widgets/controls",
            "_view_module_version": "1.5.0",
            "_view_name": "ProgressView",
            "bar_style": "success",
            "description": "",
            "description_tooltip": null,
            "layout": "IPY_MODEL_cbd6521e260f4379804dcc0596b1744a",
            "max": 469,
            "min": 0,
            "orientation": "horizontal",
            "style": "IPY_MODEL_607bc35f358640d1a71947ef62206f13",
            "value": 469
          }
        },
        "ddb58ee607684e4887d265af56776313": {
          "model_module": "@jupyter-widgets/controls",
          "model_name": "HTMLModel",
          "model_module_version": "1.5.0",
          "state": {
            "_dom_classes": [],
            "_model_module": "@jupyter-widgets/controls",
            "_model_module_version": "1.5.0",
            "_model_name": "HTMLModel",
            "_view_count": null,
            "_view_module": "@jupyter-widgets/controls",
            "_view_module_version": "1.5.0",
            "_view_name": "HTMLView",
            "description": "",
            "description_tooltip": null,
            "layout": "IPY_MODEL_13d381f1797c4f458f2eeb83899d3e78",
            "placeholder": "​",
            "style": "IPY_MODEL_5203248dc5e8410fb8ca0a6333cc66bb",
            "value": " 469/469 [00:24&lt;00:00, 21.17it/s, Perda Treino=0.2013]"
          }
        },
        "221399047802419a87af67ec4a928ef0": {
          "model_module": "@jupyter-widgets/base",
          "model_name": "LayoutModel",
          "model_module_version": "1.2.0",
          "state": {
            "_model_module": "@jupyter-widgets/base",
            "_model_module_version": "1.2.0",
            "_model_name": "LayoutModel",
            "_view_count": null,
            "_view_module": "@jupyter-widgets/base",
            "_view_module_version": "1.2.0",
            "_view_name": "LayoutView",
            "align_content": null,
            "align_items": null,
            "align_self": null,
            "border": null,
            "bottom": null,
            "display": null,
            "flex": null,
            "flex_flow": null,
            "grid_area": null,
            "grid_auto_columns": null,
            "grid_auto_flow": null,
            "grid_auto_rows": null,
            "grid_column": null,
            "grid_gap": null,
            "grid_row": null,
            "grid_template_areas": null,
            "grid_template_columns": null,
            "grid_template_rows": null,
            "height": null,
            "justify_content": null,
            "justify_items": null,
            "left": null,
            "margin": null,
            "max_height": null,
            "max_width": null,
            "min_height": null,
            "min_width": null,
            "object_fit": null,
            "object_position": null,
            "order": null,
            "overflow": null,
            "overflow_x": null,
            "overflow_y": null,
            "padding": null,
            "right": null,
            "top": null,
            "visibility": null,
            "width": null
          }
        },
        "f5cd263bdc1542dba2cedbf8ef7a6f80": {
          "model_module": "@jupyter-widgets/base",
          "model_name": "LayoutModel",
          "model_module_version": "1.2.0",
          "state": {
            "_model_module": "@jupyter-widgets/base",
            "_model_module_version": "1.2.0",
            "_model_name": "LayoutModel",
            "_view_count": null,
            "_view_module": "@jupyter-widgets/base",
            "_view_module_version": "1.2.0",
            "_view_name": "LayoutView",
            "align_content": null,
            "align_items": null,
            "align_self": null,
            "border": null,
            "bottom": null,
            "display": null,
            "flex": null,
            "flex_flow": null,
            "grid_area": null,
            "grid_auto_columns": null,
            "grid_auto_flow": null,
            "grid_auto_rows": null,
            "grid_column": null,
            "grid_gap": null,
            "grid_row": null,
            "grid_template_areas": null,
            "grid_template_columns": null,
            "grid_template_rows": null,
            "height": null,
            "justify_content": null,
            "justify_items": null,
            "left": null,
            "margin": null,
            "max_height": null,
            "max_width": null,
            "min_height": null,
            "min_width": null,
            "object_fit": null,
            "object_position": null,
            "order": null,
            "overflow": null,
            "overflow_x": null,
            "overflow_y": null,
            "padding": null,
            "right": null,
            "top": null,
            "visibility": null,
            "width": null
          }
        },
        "4648bd27ad8c4263b01e863e44143a47": {
          "model_module": "@jupyter-widgets/controls",
          "model_name": "DescriptionStyleModel",
          "model_module_version": "1.5.0",
          "state": {
            "_model_module": "@jupyter-widgets/controls",
            "_model_module_version": "1.5.0",
            "_model_name": "DescriptionStyleModel",
            "_view_count": null,
            "_view_module": "@jupyter-widgets/base",
            "_view_module_version": "1.2.0",
            "_view_name": "StyleView",
            "description_width": ""
          }
        },
        "cbd6521e260f4379804dcc0596b1744a": {
          "model_module": "@jupyter-widgets/base",
          "model_name": "LayoutModel",
          "model_module_version": "1.2.0",
          "state": {
            "_model_module": "@jupyter-widgets/base",
            "_model_module_version": "1.2.0",
            "_model_name": "LayoutModel",
            "_view_count": null,
            "_view_module": "@jupyter-widgets/base",
            "_view_module_version": "1.2.0",
            "_view_name": "LayoutView",
            "align_content": null,
            "align_items": null,
            "align_self": null,
            "border": null,
            "bottom": null,
            "display": null,
            "flex": null,
            "flex_flow": null,
            "grid_area": null,
            "grid_auto_columns": null,
            "grid_auto_flow": null,
            "grid_auto_rows": null,
            "grid_column": null,
            "grid_gap": null,
            "grid_row": null,
            "grid_template_areas": null,
            "grid_template_columns": null,
            "grid_template_rows": null,
            "height": null,
            "justify_content": null,
            "justify_items": null,
            "left": null,
            "margin": null,
            "max_height": null,
            "max_width": null,
            "min_height": null,
            "min_width": null,
            "object_fit": null,
            "object_position": null,
            "order": null,
            "overflow": null,
            "overflow_x": null,
            "overflow_y": null,
            "padding": null,
            "right": null,
            "top": null,
            "visibility": null,
            "width": null
          }
        },
        "607bc35f358640d1a71947ef62206f13": {
          "model_module": "@jupyter-widgets/controls",
          "model_name": "ProgressStyleModel",
          "model_module_version": "1.5.0",
          "state": {
            "_model_module": "@jupyter-widgets/controls",
            "_model_module_version": "1.5.0",
            "_model_name": "ProgressStyleModel",
            "_view_count": null,
            "_view_module": "@jupyter-widgets/base",
            "_view_module_version": "1.2.0",
            "_view_name": "StyleView",
            "bar_color": null,
            "description_width": ""
          }
        },
        "13d381f1797c4f458f2eeb83899d3e78": {
          "model_module": "@jupyter-widgets/base",
          "model_name": "LayoutModel",
          "model_module_version": "1.2.0",
          "state": {
            "_model_module": "@jupyter-widgets/base",
            "_model_module_version": "1.2.0",
            "_model_name": "LayoutModel",
            "_view_count": null,
            "_view_module": "@jupyter-widgets/base",
            "_view_module_version": "1.2.0",
            "_view_name": "LayoutView",
            "align_content": null,
            "align_items": null,
            "align_self": null,
            "border": null,
            "bottom": null,
            "display": null,
            "flex": null,
            "flex_flow": null,
            "grid_area": null,
            "grid_auto_columns": null,
            "grid_auto_flow": null,
            "grid_auto_rows": null,
            "grid_column": null,
            "grid_gap": null,
            "grid_row": null,
            "grid_template_areas": null,
            "grid_template_columns": null,
            "grid_template_rows": null,
            "height": null,
            "justify_content": null,
            "justify_items": null,
            "left": null,
            "margin": null,
            "max_height": null,
            "max_width": null,
            "min_height": null,
            "min_width": null,
            "object_fit": null,
            "object_position": null,
            "order": null,
            "overflow": null,
            "overflow_x": null,
            "overflow_y": null,
            "padding": null,
            "right": null,
            "top": null,
            "visibility": null,
            "width": null
          }
        },
        "5203248dc5e8410fb8ca0a6333cc66bb": {
          "model_module": "@jupyter-widgets/controls",
          "model_name": "DescriptionStyleModel",
          "model_module_version": "1.5.0",
          "state": {
            "_model_module": "@jupyter-widgets/controls",
            "_model_module_version": "1.5.0",
            "_model_name": "DescriptionStyleModel",
            "_view_count": null,
            "_view_module": "@jupyter-widgets/base",
            "_view_module_version": "1.2.0",
            "_view_name": "StyleView",
            "description_width": ""
          }
        },
        "574496446df54000907926e52424707d": {
          "model_module": "@jupyter-widgets/controls",
          "model_name": "HBoxModel",
          "model_module_version": "1.5.0",
          "state": {
            "_dom_classes": [],
            "_model_module": "@jupyter-widgets/controls",
            "_model_module_version": "1.5.0",
            "_model_name": "HBoxModel",
            "_view_count": null,
            "_view_module": "@jupyter-widgets/controls",
            "_view_module_version": "1.5.0",
            "_view_name": "HBoxView",
            "box_style": "",
            "children": [
              "IPY_MODEL_be6f048f8304481cbd36af90fef59642",
              "IPY_MODEL_5f6d91feeb4d4797ad939fc5a5c6ce8b",
              "IPY_MODEL_0fb50e96763e45e89699ecf17513f406"
            ],
            "layout": "IPY_MODEL_c1067f71c82f4390aacc80e6aad33aec"
          }
        },
        "be6f048f8304481cbd36af90fef59642": {
          "model_module": "@jupyter-widgets/controls",
          "model_name": "HTMLModel",
          "model_module_version": "1.5.0",
          "state": {
            "_dom_classes": [],
            "_model_module": "@jupyter-widgets/controls",
            "_model_module_version": "1.5.0",
            "_model_name": "HTMLModel",
            "_view_count": null,
            "_view_module": "@jupyter-widgets/controls",
            "_view_module_version": "1.5.0",
            "_view_name": "HTMLView",
            "description": "",
            "description_tooltip": null,
            "layout": "IPY_MODEL_a9bb0ee233924c679b0e8f14d3d2040c",
            "placeholder": "​",
            "style": "IPY_MODEL_460b5d52d59b460ead2895da39c3c6ee",
            "value": "Época [4/5] Validação (LR=0.0001):   0%"
          }
        },
        "5f6d91feeb4d4797ad939fc5a5c6ce8b": {
          "model_module": "@jupyter-widgets/controls",
          "model_name": "FloatProgressModel",
          "model_module_version": "1.5.0",
          "state": {
            "_dom_classes": [],
            "_model_module": "@jupyter-widgets/controls",
            "_model_module_version": "1.5.0",
            "_model_name": "FloatProgressModel",
            "_view_count": null,
            "_view_module": "@jupyter-widgets/controls",
            "_view_module_version": "1.5.0",
            "_view_name": "ProgressView",
            "bar_style": "danger",
            "description": "",
            "description_tooltip": null,
            "layout": "IPY_MODEL_67af8256ea104b3a8bf62a2e2704d444",
            "max": 79,
            "min": 0,
            "orientation": "horizontal",
            "style": "IPY_MODEL_1e64937c6fe94ce99c90fdd04992414d",
            "value": 0
          }
        },
        "0fb50e96763e45e89699ecf17513f406": {
          "model_module": "@jupyter-widgets/controls",
          "model_name": "HTMLModel",
          "model_module_version": "1.5.0",
          "state": {
            "_dom_classes": [],
            "_model_module": "@jupyter-widgets/controls",
            "_model_module_version": "1.5.0",
            "_model_name": "HTMLModel",
            "_view_count": null,
            "_view_module": "@jupyter-widgets/controls",
            "_view_module_version": "1.5.0",
            "_view_name": "HTMLView",
            "description": "",
            "description_tooltip": null,
            "layout": "IPY_MODEL_a106b482ebcf434e989cc221b738adb0",
            "placeholder": "​",
            "style": "IPY_MODEL_884c08ef73014600a90ded0bd5717d91",
            "value": " 0/79 [01:00&lt;?, ?it/s, Perda Val=0.0865]"
          }
        },
        "c1067f71c82f4390aacc80e6aad33aec": {
          "model_module": "@jupyter-widgets/base",
          "model_name": "LayoutModel",
          "model_module_version": "1.2.0",
          "state": {
            "_model_module": "@jupyter-widgets/base",
            "_model_module_version": "1.2.0",
            "_model_name": "LayoutModel",
            "_view_count": null,
            "_view_module": "@jupyter-widgets/base",
            "_view_module_version": "1.2.0",
            "_view_name": "LayoutView",
            "align_content": null,
            "align_items": null,
            "align_self": null,
            "border": null,
            "bottom": null,
            "display": null,
            "flex": null,
            "flex_flow": null,
            "grid_area": null,
            "grid_auto_columns": null,
            "grid_auto_flow": null,
            "grid_auto_rows": null,
            "grid_column": null,
            "grid_gap": null,
            "grid_row": null,
            "grid_template_areas": null,
            "grid_template_columns": null,
            "grid_template_rows": null,
            "height": null,
            "justify_content": null,
            "justify_items": null,
            "left": null,
            "margin": null,
            "max_height": null,
            "max_width": null,
            "min_height": null,
            "min_width": null,
            "object_fit": null,
            "object_position": null,
            "order": null,
            "overflow": null,
            "overflow_x": null,
            "overflow_y": null,
            "padding": null,
            "right": null,
            "top": null,
            "visibility": null,
            "width": null
          }
        },
        "a9bb0ee233924c679b0e8f14d3d2040c": {
          "model_module": "@jupyter-widgets/base",
          "model_name": "LayoutModel",
          "model_module_version": "1.2.0",
          "state": {
            "_model_module": "@jupyter-widgets/base",
            "_model_module_version": "1.2.0",
            "_model_name": "LayoutModel",
            "_view_count": null,
            "_view_module": "@jupyter-widgets/base",
            "_view_module_version": "1.2.0",
            "_view_name": "LayoutView",
            "align_content": null,
            "align_items": null,
            "align_self": null,
            "border": null,
            "bottom": null,
            "display": null,
            "flex": null,
            "flex_flow": null,
            "grid_area": null,
            "grid_auto_columns": null,
            "grid_auto_flow": null,
            "grid_auto_rows": null,
            "grid_column": null,
            "grid_gap": null,
            "grid_row": null,
            "grid_template_areas": null,
            "grid_template_columns": null,
            "grid_template_rows": null,
            "height": null,
            "justify_content": null,
            "justify_items": null,
            "left": null,
            "margin": null,
            "max_height": null,
            "max_width": null,
            "min_height": null,
            "min_width": null,
            "object_fit": null,
            "object_position": null,
            "order": null,
            "overflow": null,
            "overflow_x": null,
            "overflow_y": null,
            "padding": null,
            "right": null,
            "top": null,
            "visibility": null,
            "width": null
          }
        },
        "460b5d52d59b460ead2895da39c3c6ee": {
          "model_module": "@jupyter-widgets/controls",
          "model_name": "DescriptionStyleModel",
          "model_module_version": "1.5.0",
          "state": {
            "_model_module": "@jupyter-widgets/controls",
            "_model_module_version": "1.5.0",
            "_model_name": "DescriptionStyleModel",
            "_view_count": null,
            "_view_module": "@jupyter-widgets/base",
            "_view_module_version": "1.2.0",
            "_view_name": "StyleView",
            "description_width": ""
          }
        },
        "67af8256ea104b3a8bf62a2e2704d444": {
          "model_module": "@jupyter-widgets/base",
          "model_name": "LayoutModel",
          "model_module_version": "1.2.0",
          "state": {
            "_model_module": "@jupyter-widgets/base",
            "_model_module_version": "1.2.0",
            "_model_name": "LayoutModel",
            "_view_count": null,
            "_view_module": "@jupyter-widgets/base",
            "_view_module_version": "1.2.0",
            "_view_name": "LayoutView",
            "align_content": null,
            "align_items": null,
            "align_self": null,
            "border": null,
            "bottom": null,
            "display": null,
            "flex": null,
            "flex_flow": null,
            "grid_area": null,
            "grid_auto_columns": null,
            "grid_auto_flow": null,
            "grid_auto_rows": null,
            "grid_column": null,
            "grid_gap": null,
            "grid_row": null,
            "grid_template_areas": null,
            "grid_template_columns": null,
            "grid_template_rows": null,
            "height": null,
            "justify_content": null,
            "justify_items": null,
            "left": null,
            "margin": null,
            "max_height": null,
            "max_width": null,
            "min_height": null,
            "min_width": null,
            "object_fit": null,
            "object_position": null,
            "order": null,
            "overflow": null,
            "overflow_x": null,
            "overflow_y": null,
            "padding": null,
            "right": null,
            "top": null,
            "visibility": null,
            "width": null
          }
        },
        "1e64937c6fe94ce99c90fdd04992414d": {
          "model_module": "@jupyter-widgets/controls",
          "model_name": "ProgressStyleModel",
          "model_module_version": "1.5.0",
          "state": {
            "_model_module": "@jupyter-widgets/controls",
            "_model_module_version": "1.5.0",
            "_model_name": "ProgressStyleModel",
            "_view_count": null,
            "_view_module": "@jupyter-widgets/base",
            "_view_module_version": "1.2.0",
            "_view_name": "StyleView",
            "bar_color": null,
            "description_width": ""
          }
        },
        "a106b482ebcf434e989cc221b738adb0": {
          "model_module": "@jupyter-widgets/base",
          "model_name": "LayoutModel",
          "model_module_version": "1.2.0",
          "state": {
            "_model_module": "@jupyter-widgets/base",
            "_model_module_version": "1.2.0",
            "_model_name": "LayoutModel",
            "_view_count": null,
            "_view_module": "@jupyter-widgets/base",
            "_view_module_version": "1.2.0",
            "_view_name": "LayoutView",
            "align_content": null,
            "align_items": null,
            "align_self": null,
            "border": null,
            "bottom": null,
            "display": null,
            "flex": null,
            "flex_flow": null,
            "grid_area": null,
            "grid_auto_columns": null,
            "grid_auto_flow": null,
            "grid_auto_rows": null,
            "grid_column": null,
            "grid_gap": null,
            "grid_row": null,
            "grid_template_areas": null,
            "grid_template_columns": null,
            "grid_template_rows": null,
            "height": null,
            "justify_content": null,
            "justify_items": null,
            "left": null,
            "margin": null,
            "max_height": null,
            "max_width": null,
            "min_height": null,
            "min_width": null,
            "object_fit": null,
            "object_position": null,
            "order": null,
            "overflow": null,
            "overflow_x": null,
            "overflow_y": null,
            "padding": null,
            "right": null,
            "top": null,
            "visibility": null,
            "width": null
          }
        },
        "884c08ef73014600a90ded0bd5717d91": {
          "model_module": "@jupyter-widgets/controls",
          "model_name": "DescriptionStyleModel",
          "model_module_version": "1.5.0",
          "state": {
            "_model_module": "@jupyter-widgets/controls",
            "_model_module_version": "1.5.0",
            "_model_name": "DescriptionStyleModel",
            "_view_count": null,
            "_view_module": "@jupyter-widgets/base",
            "_view_module_version": "1.2.0",
            "_view_name": "StyleView",
            "description_width": ""
          }
        },
        "04692b9cb4244982854131947ec6d8a2": {
          "model_module": "@jupyter-widgets/controls",
          "model_name": "HBoxModel",
          "model_module_version": "1.5.0",
          "state": {
            "_dom_classes": [],
            "_model_module": "@jupyter-widgets/controls",
            "_model_module_version": "1.5.0",
            "_model_name": "HBoxModel",
            "_view_count": null,
            "_view_module": "@jupyter-widgets/controls",
            "_view_module_version": "1.5.0",
            "_view_name": "HBoxView",
            "box_style": "",
            "children": [
              "IPY_MODEL_a20f4095f37f46489dd6920332205891",
              "IPY_MODEL_5eb596e8c7d54c7d83355e7e65ec8bb0",
              "IPY_MODEL_63c82c02404041b88bcd881e5161734f"
            ],
            "layout": "IPY_MODEL_05a35a39b6bf401b98e942c507b8356b"
          }
        },
        "a20f4095f37f46489dd6920332205891": {
          "model_module": "@jupyter-widgets/controls",
          "model_name": "HTMLModel",
          "model_module_version": "1.5.0",
          "state": {
            "_dom_classes": [],
            "_model_module": "@jupyter-widgets/controls",
            "_model_module_version": "1.5.0",
            "_model_name": "HTMLModel",
            "_view_count": null,
            "_view_module": "@jupyter-widgets/controls",
            "_view_module_version": "1.5.0",
            "_view_name": "HTMLView",
            "description": "",
            "description_tooltip": null,
            "layout": "IPY_MODEL_08073f4dc6c34ec3b9d9e9da51d4629d",
            "placeholder": "​",
            "style": "IPY_MODEL_ec50c3d63df949ac8a9f924409a74e78",
            "value": "Época [5/5] Treino (LR=0.0001): 100%"
          }
        },
        "5eb596e8c7d54c7d83355e7e65ec8bb0": {
          "model_module": "@jupyter-widgets/controls",
          "model_name": "FloatProgressModel",
          "model_module_version": "1.5.0",
          "state": {
            "_dom_classes": [],
            "_model_module": "@jupyter-widgets/controls",
            "_model_module_version": "1.5.0",
            "_model_name": "FloatProgressModel",
            "_view_count": null,
            "_view_module": "@jupyter-widgets/controls",
            "_view_module_version": "1.5.0",
            "_view_name": "ProgressView",
            "bar_style": "success",
            "description": "",
            "description_tooltip": null,
            "layout": "IPY_MODEL_1a06baae42114df6a9c7f23ea5b30d7f",
            "max": 469,
            "min": 0,
            "orientation": "horizontal",
            "style": "IPY_MODEL_cce82f7082d5432d915876e2c4abd13c",
            "value": 469
          }
        },
        "63c82c02404041b88bcd881e5161734f": {
          "model_module": "@jupyter-widgets/controls",
          "model_name": "HTMLModel",
          "model_module_version": "1.5.0",
          "state": {
            "_dom_classes": [],
            "_model_module": "@jupyter-widgets/controls",
            "_model_module_version": "1.5.0",
            "_model_name": "HTMLModel",
            "_view_count": null,
            "_view_module": "@jupyter-widgets/controls",
            "_view_module_version": "1.5.0",
            "_view_name": "HTMLView",
            "description": "",
            "description_tooltip": null,
            "layout": "IPY_MODEL_e7ffeb736f0645db84c685643937b93d",
            "placeholder": "​",
            "style": "IPY_MODEL_c8453e46db6f4980b103fafd9cab08f2",
            "value": " 469/469 [00:24&lt;00:00, 22.98it/s, Perda Treino=0.1824]"
          }
        },
        "05a35a39b6bf401b98e942c507b8356b": {
          "model_module": "@jupyter-widgets/base",
          "model_name": "LayoutModel",
          "model_module_version": "1.2.0",
          "state": {
            "_model_module": "@jupyter-widgets/base",
            "_model_module_version": "1.2.0",
            "_model_name": "LayoutModel",
            "_view_count": null,
            "_view_module": "@jupyter-widgets/base",
            "_view_module_version": "1.2.0",
            "_view_name": "LayoutView",
            "align_content": null,
            "align_items": null,
            "align_self": null,
            "border": null,
            "bottom": null,
            "display": null,
            "flex": null,
            "flex_flow": null,
            "grid_area": null,
            "grid_auto_columns": null,
            "grid_auto_flow": null,
            "grid_auto_rows": null,
            "grid_column": null,
            "grid_gap": null,
            "grid_row": null,
            "grid_template_areas": null,
            "grid_template_columns": null,
            "grid_template_rows": null,
            "height": null,
            "justify_content": null,
            "justify_items": null,
            "left": null,
            "margin": null,
            "max_height": null,
            "max_width": null,
            "min_height": null,
            "min_width": null,
            "object_fit": null,
            "object_position": null,
            "order": null,
            "overflow": null,
            "overflow_x": null,
            "overflow_y": null,
            "padding": null,
            "right": null,
            "top": null,
            "visibility": null,
            "width": null
          }
        },
        "08073f4dc6c34ec3b9d9e9da51d4629d": {
          "model_module": "@jupyter-widgets/base",
          "model_name": "LayoutModel",
          "model_module_version": "1.2.0",
          "state": {
            "_model_module": "@jupyter-widgets/base",
            "_model_module_version": "1.2.0",
            "_model_name": "LayoutModel",
            "_view_count": null,
            "_view_module": "@jupyter-widgets/base",
            "_view_module_version": "1.2.0",
            "_view_name": "LayoutView",
            "align_content": null,
            "align_items": null,
            "align_self": null,
            "border": null,
            "bottom": null,
            "display": null,
            "flex": null,
            "flex_flow": null,
            "grid_area": null,
            "grid_auto_columns": null,
            "grid_auto_flow": null,
            "grid_auto_rows": null,
            "grid_column": null,
            "grid_gap": null,
            "grid_row": null,
            "grid_template_areas": null,
            "grid_template_columns": null,
            "grid_template_rows": null,
            "height": null,
            "justify_content": null,
            "justify_items": null,
            "left": null,
            "margin": null,
            "max_height": null,
            "max_width": null,
            "min_height": null,
            "min_width": null,
            "object_fit": null,
            "object_position": null,
            "order": null,
            "overflow": null,
            "overflow_x": null,
            "overflow_y": null,
            "padding": null,
            "right": null,
            "top": null,
            "visibility": null,
            "width": null
          }
        },
        "ec50c3d63df949ac8a9f924409a74e78": {
          "model_module": "@jupyter-widgets/controls",
          "model_name": "DescriptionStyleModel",
          "model_module_version": "1.5.0",
          "state": {
            "_model_module": "@jupyter-widgets/controls",
            "_model_module_version": "1.5.0",
            "_model_name": "DescriptionStyleModel",
            "_view_count": null,
            "_view_module": "@jupyter-widgets/base",
            "_view_module_version": "1.2.0",
            "_view_name": "StyleView",
            "description_width": ""
          }
        },
        "1a06baae42114df6a9c7f23ea5b30d7f": {
          "model_module": "@jupyter-widgets/base",
          "model_name": "LayoutModel",
          "model_module_version": "1.2.0",
          "state": {
            "_model_module": "@jupyter-widgets/base",
            "_model_module_version": "1.2.0",
            "_model_name": "LayoutModel",
            "_view_count": null,
            "_view_module": "@jupyter-widgets/base",
            "_view_module_version": "1.2.0",
            "_view_name": "LayoutView",
            "align_content": null,
            "align_items": null,
            "align_self": null,
            "border": null,
            "bottom": null,
            "display": null,
            "flex": null,
            "flex_flow": null,
            "grid_area": null,
            "grid_auto_columns": null,
            "grid_auto_flow": null,
            "grid_auto_rows": null,
            "grid_column": null,
            "grid_gap": null,
            "grid_row": null,
            "grid_template_areas": null,
            "grid_template_columns": null,
            "grid_template_rows": null,
            "height": null,
            "justify_content": null,
            "justify_items": null,
            "left": null,
            "margin": null,
            "max_height": null,
            "max_width": null,
            "min_height": null,
            "min_width": null,
            "object_fit": null,
            "object_position": null,
            "order": null,
            "overflow": null,
            "overflow_x": null,
            "overflow_y": null,
            "padding": null,
            "right": null,
            "top": null,
            "visibility": null,
            "width": null
          }
        },
        "cce82f7082d5432d915876e2c4abd13c": {
          "model_module": "@jupyter-widgets/controls",
          "model_name": "ProgressStyleModel",
          "model_module_version": "1.5.0",
          "state": {
            "_model_module": "@jupyter-widgets/controls",
            "_model_module_version": "1.5.0",
            "_model_name": "ProgressStyleModel",
            "_view_count": null,
            "_view_module": "@jupyter-widgets/base",
            "_view_module_version": "1.2.0",
            "_view_name": "StyleView",
            "bar_color": null,
            "description_width": ""
          }
        },
        "e7ffeb736f0645db84c685643937b93d": {
          "model_module": "@jupyter-widgets/base",
          "model_name": "LayoutModel",
          "model_module_version": "1.2.0",
          "state": {
            "_model_module": "@jupyter-widgets/base",
            "_model_module_version": "1.2.0",
            "_model_name": "LayoutModel",
            "_view_count": null,
            "_view_module": "@jupyter-widgets/base",
            "_view_module_version": "1.2.0",
            "_view_name": "LayoutView",
            "align_content": null,
            "align_items": null,
            "align_self": null,
            "border": null,
            "bottom": null,
            "display": null,
            "flex": null,
            "flex_flow": null,
            "grid_area": null,
            "grid_auto_columns": null,
            "grid_auto_flow": null,
            "grid_auto_rows": null,
            "grid_column": null,
            "grid_gap": null,
            "grid_row": null,
            "grid_template_areas": null,
            "grid_template_columns": null,
            "grid_template_rows": null,
            "height": null,
            "justify_content": null,
            "justify_items": null,
            "left": null,
            "margin": null,
            "max_height": null,
            "max_width": null,
            "min_height": null,
            "min_width": null,
            "object_fit": null,
            "object_position": null,
            "order": null,
            "overflow": null,
            "overflow_x": null,
            "overflow_y": null,
            "padding": null,
            "right": null,
            "top": null,
            "visibility": null,
            "width": null
          }
        },
        "c8453e46db6f4980b103fafd9cab08f2": {
          "model_module": "@jupyter-widgets/controls",
          "model_name": "DescriptionStyleModel",
          "model_module_version": "1.5.0",
          "state": {
            "_model_module": "@jupyter-widgets/controls",
            "_model_module_version": "1.5.0",
            "_model_name": "DescriptionStyleModel",
            "_view_count": null,
            "_view_module": "@jupyter-widgets/base",
            "_view_module_version": "1.2.0",
            "_view_name": "StyleView",
            "description_width": ""
          }
        },
        "f78fc63e74bc4eceaf3e46eb16bec8d2": {
          "model_module": "@jupyter-widgets/controls",
          "model_name": "HBoxModel",
          "model_module_version": "1.5.0",
          "state": {
            "_dom_classes": [],
            "_model_module": "@jupyter-widgets/controls",
            "_model_module_version": "1.5.0",
            "_model_name": "HBoxModel",
            "_view_count": null,
            "_view_module": "@jupyter-widgets/controls",
            "_view_module_version": "1.5.0",
            "_view_name": "HBoxView",
            "box_style": "",
            "children": [
              "IPY_MODEL_205e0ea073944c218f41b8e71e65aa66",
              "IPY_MODEL_d2940258f74e472cb1731efe05a3713d",
              "IPY_MODEL_d2f7521bf36b4f1b8b013df90bffd4e1"
            ],
            "layout": "IPY_MODEL_7928bea27cf54601b7d6dd8d9a7e42c2"
          }
        },
        "205e0ea073944c218f41b8e71e65aa66": {
          "model_module": "@jupyter-widgets/controls",
          "model_name": "HTMLModel",
          "model_module_version": "1.5.0",
          "state": {
            "_dom_classes": [],
            "_model_module": "@jupyter-widgets/controls",
            "_model_module_version": "1.5.0",
            "_model_name": "HTMLModel",
            "_view_count": null,
            "_view_module": "@jupyter-widgets/controls",
            "_view_module_version": "1.5.0",
            "_view_name": "HTMLView",
            "description": "",
            "description_tooltip": null,
            "layout": "IPY_MODEL_0e16ca27a6c1470eb13309aaf05a085d",
            "placeholder": "​",
            "style": "IPY_MODEL_a686218e15ff43d1b8428fc358e2e365",
            "value": "Época [5/5] Validação (LR=0.0001):   0%"
          }
        },
        "d2940258f74e472cb1731efe05a3713d": {
          "model_module": "@jupyter-widgets/controls",
          "model_name": "FloatProgressModel",
          "model_module_version": "1.5.0",
          "state": {
            "_dom_classes": [],
            "_model_module": "@jupyter-widgets/controls",
            "_model_module_version": "1.5.0",
            "_model_name": "FloatProgressModel",
            "_view_count": null,
            "_view_module": "@jupyter-widgets/controls",
            "_view_module_version": "1.5.0",
            "_view_name": "ProgressView",
            "bar_style": "",
            "description": "",
            "description_tooltip": null,
            "layout": "IPY_MODEL_bac786572b914207bb33f8b01f912a09",
            "max": 79,
            "min": 0,
            "orientation": "horizontal",
            "style": "IPY_MODEL_2ed43d98b5f4444b99ca1624ac1f2272",
            "value": 0
          }
        },
        "d2f7521bf36b4f1b8b013df90bffd4e1": {
          "model_module": "@jupyter-widgets/controls",
          "model_name": "HTMLModel",
          "model_module_version": "1.5.0",
          "state": {
            "_dom_classes": [],
            "_model_module": "@jupyter-widgets/controls",
            "_model_module_version": "1.5.0",
            "_model_name": "HTMLModel",
            "_view_count": null,
            "_view_module": "@jupyter-widgets/controls",
            "_view_module_version": "1.5.0",
            "_view_name": "HTMLView",
            "description": "",
            "description_tooltip": null,
            "layout": "IPY_MODEL_7addfeacff544d2587406c7d9f334086",
            "placeholder": "​",
            "style": "IPY_MODEL_36d4b344a0684e65815b7b59420a330b",
            "value": " 0/79 [00:02&lt;?, ?it/s, Perda Val=0.0309]"
          }
        },
        "7928bea27cf54601b7d6dd8d9a7e42c2": {
          "model_module": "@jupyter-widgets/base",
          "model_name": "LayoutModel",
          "model_module_version": "1.2.0",
          "state": {
            "_model_module": "@jupyter-widgets/base",
            "_model_module_version": "1.2.0",
            "_model_name": "LayoutModel",
            "_view_count": null,
            "_view_module": "@jupyter-widgets/base",
            "_view_module_version": "1.2.0",
            "_view_name": "LayoutView",
            "align_content": null,
            "align_items": null,
            "align_self": null,
            "border": null,
            "bottom": null,
            "display": null,
            "flex": null,
            "flex_flow": null,
            "grid_area": null,
            "grid_auto_columns": null,
            "grid_auto_flow": null,
            "grid_auto_rows": null,
            "grid_column": null,
            "grid_gap": null,
            "grid_row": null,
            "grid_template_areas": null,
            "grid_template_columns": null,
            "grid_template_rows": null,
            "height": null,
            "justify_content": null,
            "justify_items": null,
            "left": null,
            "margin": null,
            "max_height": null,
            "max_width": null,
            "min_height": null,
            "min_width": null,
            "object_fit": null,
            "object_position": null,
            "order": null,
            "overflow": null,
            "overflow_x": null,
            "overflow_y": null,
            "padding": null,
            "right": null,
            "top": null,
            "visibility": null,
            "width": null
          }
        },
        "0e16ca27a6c1470eb13309aaf05a085d": {
          "model_module": "@jupyter-widgets/base",
          "model_name": "LayoutModel",
          "model_module_version": "1.2.0",
          "state": {
            "_model_module": "@jupyter-widgets/base",
            "_model_module_version": "1.2.0",
            "_model_name": "LayoutModel",
            "_view_count": null,
            "_view_module": "@jupyter-widgets/base",
            "_view_module_version": "1.2.0",
            "_view_name": "LayoutView",
            "align_content": null,
            "align_items": null,
            "align_self": null,
            "border": null,
            "bottom": null,
            "display": null,
            "flex": null,
            "flex_flow": null,
            "grid_area": null,
            "grid_auto_columns": null,
            "grid_auto_flow": null,
            "grid_auto_rows": null,
            "grid_column": null,
            "grid_gap": null,
            "grid_row": null,
            "grid_template_areas": null,
            "grid_template_columns": null,
            "grid_template_rows": null,
            "height": null,
            "justify_content": null,
            "justify_items": null,
            "left": null,
            "margin": null,
            "max_height": null,
            "max_width": null,
            "min_height": null,
            "min_width": null,
            "object_fit": null,
            "object_position": null,
            "order": null,
            "overflow": null,
            "overflow_x": null,
            "overflow_y": null,
            "padding": null,
            "right": null,
            "top": null,
            "visibility": null,
            "width": null
          }
        },
        "a686218e15ff43d1b8428fc358e2e365": {
          "model_module": "@jupyter-widgets/controls",
          "model_name": "DescriptionStyleModel",
          "model_module_version": "1.5.0",
          "state": {
            "_model_module": "@jupyter-widgets/controls",
            "_model_module_version": "1.5.0",
            "_model_name": "DescriptionStyleModel",
            "_view_count": null,
            "_view_module": "@jupyter-widgets/base",
            "_view_module_version": "1.2.0",
            "_view_name": "StyleView",
            "description_width": ""
          }
        },
        "bac786572b914207bb33f8b01f912a09": {
          "model_module": "@jupyter-widgets/base",
          "model_name": "LayoutModel",
          "model_module_version": "1.2.0",
          "state": {
            "_model_module": "@jupyter-widgets/base",
            "_model_module_version": "1.2.0",
            "_model_name": "LayoutModel",
            "_view_count": null,
            "_view_module": "@jupyter-widgets/base",
            "_view_module_version": "1.2.0",
            "_view_name": "LayoutView",
            "align_content": null,
            "align_items": null,
            "align_self": null,
            "border": null,
            "bottom": null,
            "display": null,
            "flex": null,
            "flex_flow": null,
            "grid_area": null,
            "grid_auto_columns": null,
            "grid_auto_flow": null,
            "grid_auto_rows": null,
            "grid_column": null,
            "grid_gap": null,
            "grid_row": null,
            "grid_template_areas": null,
            "grid_template_columns": null,
            "grid_template_rows": null,
            "height": null,
            "justify_content": null,
            "justify_items": null,
            "left": null,
            "margin": null,
            "max_height": null,
            "max_width": null,
            "min_height": null,
            "min_width": null,
            "object_fit": null,
            "object_position": null,
            "order": null,
            "overflow": null,
            "overflow_x": null,
            "overflow_y": null,
            "padding": null,
            "right": null,
            "top": null,
            "visibility": null,
            "width": null
          }
        },
        "2ed43d98b5f4444b99ca1624ac1f2272": {
          "model_module": "@jupyter-widgets/controls",
          "model_name": "ProgressStyleModel",
          "model_module_version": "1.5.0",
          "state": {
            "_model_module": "@jupyter-widgets/controls",
            "_model_module_version": "1.5.0",
            "_model_name": "ProgressStyleModel",
            "_view_count": null,
            "_view_module": "@jupyter-widgets/base",
            "_view_module_version": "1.2.0",
            "_view_name": "StyleView",
            "bar_color": null,
            "description_width": ""
          }
        },
        "7addfeacff544d2587406c7d9f334086": {
          "model_module": "@jupyter-widgets/base",
          "model_name": "LayoutModel",
          "model_module_version": "1.2.0",
          "state": {
            "_model_module": "@jupyter-widgets/base",
            "_model_module_version": "1.2.0",
            "_model_name": "LayoutModel",
            "_view_count": null,
            "_view_module": "@jupyter-widgets/base",
            "_view_module_version": "1.2.0",
            "_view_name": "LayoutView",
            "align_content": null,
            "align_items": null,
            "align_self": null,
            "border": null,
            "bottom": null,
            "display": null,
            "flex": null,
            "flex_flow": null,
            "grid_area": null,
            "grid_auto_columns": null,
            "grid_auto_flow": null,
            "grid_auto_rows": null,
            "grid_column": null,
            "grid_gap": null,
            "grid_row": null,
            "grid_template_areas": null,
            "grid_template_columns": null,
            "grid_template_rows": null,
            "height": null,
            "justify_content": null,
            "justify_items": null,
            "left": null,
            "margin": null,
            "max_height": null,
            "max_width": null,
            "min_height": null,
            "min_width": null,
            "object_fit": null,
            "object_position": null,
            "order": null,
            "overflow": null,
            "overflow_x": null,
            "overflow_y": null,
            "padding": null,
            "right": null,
            "top": null,
            "visibility": null,
            "width": null
          }
        },
        "36d4b344a0684e65815b7b59420a330b": {
          "model_module": "@jupyter-widgets/controls",
          "model_name": "DescriptionStyleModel",
          "model_module_version": "1.5.0",
          "state": {
            "_model_module": "@jupyter-widgets/controls",
            "_model_module_version": "1.5.0",
            "_model_name": "DescriptionStyleModel",
            "_view_count": null,
            "_view_module": "@jupyter-widgets/base",
            "_view_module_version": "1.2.0",
            "_view_name": "StyleView",
            "description_width": ""
          }
        }
      }
    },
    "accelerator": "GPU"
  },
  "nbformat": 4,
  "nbformat_minor": 5
}